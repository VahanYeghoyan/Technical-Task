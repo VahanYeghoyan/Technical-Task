{
  "cells": [
    {
      "cell_type": "markdown",
      "source": [
        "**Method 1 Transformer based architecture**\n",
        "\n",
        "Since the dataset contains text data (job titles) with multiple possible labels, a transformer-based model like BERT is a perfect fit. Transformers are great at capturing the relationships between words in context, which makes them particularly effective for understanding job titles, especially when the titles include specific industry terms."
      ],
      "metadata": {
        "id": "7pCweUqFdjyY"
      }
    },
    {
      "cell_type": "code",
      "execution_count": 42,
      "metadata": {
        "id": "TZZX2sp1rpam"
      },
      "outputs": [],
      "source": [
        "import numpy as np\n",
        "import pandas as pd\n",
        "import torch\n",
        "from sklearn.model_selection import train_test_split\n",
        "from sklearn.preprocessing import MultiLabelBinarizer\n",
        "from transformers import BertTokenizer, BertForSequenceClassification, Trainer, TrainingArguments\n",
        "from torch.utils.data import Dataset\n",
        "from transformers import DataCollatorWithPadding\n",
        "from sklearn.metrics import f1_score, accuracy_score, precision_score, recall_score\n",
        "from sklearn.feature_extraction.text import TfidfVectorizer\n",
        "from catboost import CatBoostClassifier\n",
        "import joblib"
      ]
    },
    {
      "cell_type": "code",
      "execution_count": 43,
      "metadata": {
        "colab": {
          "base_uri": "https://localhost:8080/",
          "height": 206
        },
        "id": "WUBQzRCLrpao",
        "outputId": "daa148f9-34cc-4ab0-939c-8f6d1ed4c852"
      },
      "outputs": [
        {
          "output_type": "execute_result",
          "data": {
            "text/plain": [
              "                                               Title        Column 1  \\\n",
              "0   Vice President / Director of Systems Engineering  Vice President   \n",
              "1                Systems Engineer; Systems Architect         Manager   \n",
              "2  Executive Director, Global IT Infrastructure /...        Director   \n",
              "3      CTO/Executive Director of Technology Services        Director   \n",
              "4                                Vice President, CIO  Vice President   \n",
              "\n",
              "                       Column 2 Column 3 Column 4  \n",
              "0                           NaN      NaN      NaN  \n",
              "1  Individual Contributor/Staff      NaN      NaN  \n",
              "2                 Chief Officer      NaN      NaN  \n",
              "3                 Chief Officer      NaN      NaN  \n",
              "4                           NaN      NaN      NaN  "
            ],
            "text/html": [
              "\n",
              "  <div id=\"df-89deee2f-6c93-4723-88cb-c248c9a0c7fc\" class=\"colab-df-container\">\n",
              "    <div>\n",
              "<style scoped>\n",
              "    .dataframe tbody tr th:only-of-type {\n",
              "        vertical-align: middle;\n",
              "    }\n",
              "\n",
              "    .dataframe tbody tr th {\n",
              "        vertical-align: top;\n",
              "    }\n",
              "\n",
              "    .dataframe thead th {\n",
              "        text-align: right;\n",
              "    }\n",
              "</style>\n",
              "<table border=\"1\" class=\"dataframe\">\n",
              "  <thead>\n",
              "    <tr style=\"text-align: right;\">\n",
              "      <th></th>\n",
              "      <th>Title</th>\n",
              "      <th>Column 1</th>\n",
              "      <th>Column 2</th>\n",
              "      <th>Column 3</th>\n",
              "      <th>Column 4</th>\n",
              "    </tr>\n",
              "  </thead>\n",
              "  <tbody>\n",
              "    <tr>\n",
              "      <th>0</th>\n",
              "      <td>Vice President / Director of Systems Engineering</td>\n",
              "      <td>Vice President</td>\n",
              "      <td>NaN</td>\n",
              "      <td>NaN</td>\n",
              "      <td>NaN</td>\n",
              "    </tr>\n",
              "    <tr>\n",
              "      <th>1</th>\n",
              "      <td>Systems Engineer; Systems Architect</td>\n",
              "      <td>Manager</td>\n",
              "      <td>Individual Contributor/Staff</td>\n",
              "      <td>NaN</td>\n",
              "      <td>NaN</td>\n",
              "    </tr>\n",
              "    <tr>\n",
              "      <th>2</th>\n",
              "      <td>Executive Director, Global IT Infrastructure /...</td>\n",
              "      <td>Director</td>\n",
              "      <td>Chief Officer</td>\n",
              "      <td>NaN</td>\n",
              "      <td>NaN</td>\n",
              "    </tr>\n",
              "    <tr>\n",
              "      <th>3</th>\n",
              "      <td>CTO/Executive Director of Technology Services</td>\n",
              "      <td>Director</td>\n",
              "      <td>Chief Officer</td>\n",
              "      <td>NaN</td>\n",
              "      <td>NaN</td>\n",
              "    </tr>\n",
              "    <tr>\n",
              "      <th>4</th>\n",
              "      <td>Vice President, CIO</td>\n",
              "      <td>Vice President</td>\n",
              "      <td>NaN</td>\n",
              "      <td>NaN</td>\n",
              "      <td>NaN</td>\n",
              "    </tr>\n",
              "  </tbody>\n",
              "</table>\n",
              "</div>\n",
              "    <div class=\"colab-df-buttons\">\n",
              "\n",
              "  <div class=\"colab-df-container\">\n",
              "    <button class=\"colab-df-convert\" onclick=\"convertToInteractive('df-89deee2f-6c93-4723-88cb-c248c9a0c7fc')\"\n",
              "            title=\"Convert this dataframe to an interactive table.\"\n",
              "            style=\"display:none;\">\n",
              "\n",
              "  <svg xmlns=\"http://www.w3.org/2000/svg\" height=\"24px\" viewBox=\"0 -960 960 960\">\n",
              "    <path d=\"M120-120v-720h720v720H120Zm60-500h600v-160H180v160Zm220 220h160v-160H400v160Zm0 220h160v-160H400v160ZM180-400h160v-160H180v160Zm440 0h160v-160H620v160ZM180-180h160v-160H180v160Zm440 0h160v-160H620v160Z\"/>\n",
              "  </svg>\n",
              "    </button>\n",
              "\n",
              "  <style>\n",
              "    .colab-df-container {\n",
              "      display:flex;\n",
              "      gap: 12px;\n",
              "    }\n",
              "\n",
              "    .colab-df-convert {\n",
              "      background-color: #E8F0FE;\n",
              "      border: none;\n",
              "      border-radius: 50%;\n",
              "      cursor: pointer;\n",
              "      display: none;\n",
              "      fill: #1967D2;\n",
              "      height: 32px;\n",
              "      padding: 0 0 0 0;\n",
              "      width: 32px;\n",
              "    }\n",
              "\n",
              "    .colab-df-convert:hover {\n",
              "      background-color: #E2EBFA;\n",
              "      box-shadow: 0px 1px 2px rgba(60, 64, 67, 0.3), 0px 1px 3px 1px rgba(60, 64, 67, 0.15);\n",
              "      fill: #174EA6;\n",
              "    }\n",
              "\n",
              "    .colab-df-buttons div {\n",
              "      margin-bottom: 4px;\n",
              "    }\n",
              "\n",
              "    [theme=dark] .colab-df-convert {\n",
              "      background-color: #3B4455;\n",
              "      fill: #D2E3FC;\n",
              "    }\n",
              "\n",
              "    [theme=dark] .colab-df-convert:hover {\n",
              "      background-color: #434B5C;\n",
              "      box-shadow: 0px 1px 3px 1px rgba(0, 0, 0, 0.15);\n",
              "      filter: drop-shadow(0px 1px 2px rgba(0, 0, 0, 0.3));\n",
              "      fill: #FFFFFF;\n",
              "    }\n",
              "  </style>\n",
              "\n",
              "    <script>\n",
              "      const buttonEl =\n",
              "        document.querySelector('#df-89deee2f-6c93-4723-88cb-c248c9a0c7fc button.colab-df-convert');\n",
              "      buttonEl.style.display =\n",
              "        google.colab.kernel.accessAllowed ? 'block' : 'none';\n",
              "\n",
              "      async function convertToInteractive(key) {\n",
              "        const element = document.querySelector('#df-89deee2f-6c93-4723-88cb-c248c9a0c7fc');\n",
              "        const dataTable =\n",
              "          await google.colab.kernel.invokeFunction('convertToInteractive',\n",
              "                                                    [key], {});\n",
              "        if (!dataTable) return;\n",
              "\n",
              "        const docLinkHtml = 'Like what you see? Visit the ' +\n",
              "          '<a target=\"_blank\" href=https://colab.research.google.com/notebooks/data_table.ipynb>data table notebook</a>'\n",
              "          + ' to learn more about interactive tables.';\n",
              "        element.innerHTML = '';\n",
              "        dataTable['output_type'] = 'display_data';\n",
              "        await google.colab.output.renderOutput(dataTable, element);\n",
              "        const docLink = document.createElement('div');\n",
              "        docLink.innerHTML = docLinkHtml;\n",
              "        element.appendChild(docLink);\n",
              "      }\n",
              "    </script>\n",
              "  </div>\n",
              "\n",
              "\n",
              "<div id=\"df-8d7bdebd-aad0-4788-bd7b-53aacfe24b17\">\n",
              "  <button class=\"colab-df-quickchart\" onclick=\"quickchart('df-8d7bdebd-aad0-4788-bd7b-53aacfe24b17')\"\n",
              "            title=\"Suggest charts\"\n",
              "            style=\"display:none;\">\n",
              "\n",
              "<svg xmlns=\"http://www.w3.org/2000/svg\" height=\"24px\"viewBox=\"0 0 24 24\"\n",
              "     width=\"24px\">\n",
              "    <g>\n",
              "        <path d=\"M19 3H5c-1.1 0-2 .9-2 2v14c0 1.1.9 2 2 2h14c1.1 0 2-.9 2-2V5c0-1.1-.9-2-2-2zM9 17H7v-7h2v7zm4 0h-2V7h2v10zm4 0h-2v-4h2v4z\"/>\n",
              "    </g>\n",
              "</svg>\n",
              "  </button>\n",
              "\n",
              "<style>\n",
              "  .colab-df-quickchart {\n",
              "      --bg-color: #E8F0FE;\n",
              "      --fill-color: #1967D2;\n",
              "      --hover-bg-color: #E2EBFA;\n",
              "      --hover-fill-color: #174EA6;\n",
              "      --disabled-fill-color: #AAA;\n",
              "      --disabled-bg-color: #DDD;\n",
              "  }\n",
              "\n",
              "  [theme=dark] .colab-df-quickchart {\n",
              "      --bg-color: #3B4455;\n",
              "      --fill-color: #D2E3FC;\n",
              "      --hover-bg-color: #434B5C;\n",
              "      --hover-fill-color: #FFFFFF;\n",
              "      --disabled-bg-color: #3B4455;\n",
              "      --disabled-fill-color: #666;\n",
              "  }\n",
              "\n",
              "  .colab-df-quickchart {\n",
              "    background-color: var(--bg-color);\n",
              "    border: none;\n",
              "    border-radius: 50%;\n",
              "    cursor: pointer;\n",
              "    display: none;\n",
              "    fill: var(--fill-color);\n",
              "    height: 32px;\n",
              "    padding: 0;\n",
              "    width: 32px;\n",
              "  }\n",
              "\n",
              "  .colab-df-quickchart:hover {\n",
              "    background-color: var(--hover-bg-color);\n",
              "    box-shadow: 0 1px 2px rgba(60, 64, 67, 0.3), 0 1px 3px 1px rgba(60, 64, 67, 0.15);\n",
              "    fill: var(--button-hover-fill-color);\n",
              "  }\n",
              "\n",
              "  .colab-df-quickchart-complete:disabled,\n",
              "  .colab-df-quickchart-complete:disabled:hover {\n",
              "    background-color: var(--disabled-bg-color);\n",
              "    fill: var(--disabled-fill-color);\n",
              "    box-shadow: none;\n",
              "  }\n",
              "\n",
              "  .colab-df-spinner {\n",
              "    border: 2px solid var(--fill-color);\n",
              "    border-color: transparent;\n",
              "    border-bottom-color: var(--fill-color);\n",
              "    animation:\n",
              "      spin 1s steps(1) infinite;\n",
              "  }\n",
              "\n",
              "  @keyframes spin {\n",
              "    0% {\n",
              "      border-color: transparent;\n",
              "      border-bottom-color: var(--fill-color);\n",
              "      border-left-color: var(--fill-color);\n",
              "    }\n",
              "    20% {\n",
              "      border-color: transparent;\n",
              "      border-left-color: var(--fill-color);\n",
              "      border-top-color: var(--fill-color);\n",
              "    }\n",
              "    30% {\n",
              "      border-color: transparent;\n",
              "      border-left-color: var(--fill-color);\n",
              "      border-top-color: var(--fill-color);\n",
              "      border-right-color: var(--fill-color);\n",
              "    }\n",
              "    40% {\n",
              "      border-color: transparent;\n",
              "      border-right-color: var(--fill-color);\n",
              "      border-top-color: var(--fill-color);\n",
              "    }\n",
              "    60% {\n",
              "      border-color: transparent;\n",
              "      border-right-color: var(--fill-color);\n",
              "    }\n",
              "    80% {\n",
              "      border-color: transparent;\n",
              "      border-right-color: var(--fill-color);\n",
              "      border-bottom-color: var(--fill-color);\n",
              "    }\n",
              "    90% {\n",
              "      border-color: transparent;\n",
              "      border-bottom-color: var(--fill-color);\n",
              "    }\n",
              "  }\n",
              "</style>\n",
              "\n",
              "  <script>\n",
              "    async function quickchart(key) {\n",
              "      const quickchartButtonEl =\n",
              "        document.querySelector('#' + key + ' button');\n",
              "      quickchartButtonEl.disabled = true;  // To prevent multiple clicks.\n",
              "      quickchartButtonEl.classList.add('colab-df-spinner');\n",
              "      try {\n",
              "        const charts = await google.colab.kernel.invokeFunction(\n",
              "            'suggestCharts', [key], {});\n",
              "      } catch (error) {\n",
              "        console.error('Error during call to suggestCharts:', error);\n",
              "      }\n",
              "      quickchartButtonEl.classList.remove('colab-df-spinner');\n",
              "      quickchartButtonEl.classList.add('colab-df-quickchart-complete');\n",
              "    }\n",
              "    (() => {\n",
              "      let quickchartButtonEl =\n",
              "        document.querySelector('#df-8d7bdebd-aad0-4788-bd7b-53aacfe24b17 button');\n",
              "      quickchartButtonEl.style.display =\n",
              "        google.colab.kernel.accessAllowed ? 'block' : 'none';\n",
              "    })();\n",
              "  </script>\n",
              "</div>\n",
              "\n",
              "    </div>\n",
              "  </div>\n"
            ],
            "application/vnd.google.colaboratory.intrinsic+json": {
              "type": "dataframe",
              "variable_name": "data",
              "summary": "{\n  \"name\": \"data\",\n  \"rows\": 2240,\n  \"fields\": [\n    {\n      \"column\": \"Title\",\n      \"properties\": {\n        \"dtype\": \"string\",\n        \"num_unique_values\": 2240,\n        \"samples\": [\n          \"Information Technology Business Analyst III\",\n          \"NOC Administrator\",\n          \"Technical Director Letsee / Media Center\"\n        ],\n        \"semantic_type\": \"\",\n        \"description\": \"\"\n      }\n    },\n    {\n      \"column\": \"Column 1\",\n      \"properties\": {\n        \"dtype\": \"category\",\n        \"num_unique_values\": 6,\n        \"samples\": [\n          \"Vice President\",\n          \"Manager\",\n          \"Individual Contributor/Staff\"\n        ],\n        \"semantic_type\": \"\",\n        \"description\": \"\"\n      }\n    },\n    {\n      \"column\": \"Column 2\",\n      \"properties\": {\n        \"dtype\": \"category\",\n        \"num_unique_values\": 4,\n        \"samples\": [\n          \"Chief Officer\",\n          \"Director\",\n          \"Individual Contributor/Staff\"\n        ],\n        \"semantic_type\": \"\",\n        \"description\": \"\"\n      }\n    },\n    {\n      \"column\": \"Column 3\",\n      \"properties\": {\n        \"dtype\": \"category\",\n        \"num_unique_values\": 2,\n        \"samples\": [\n          \"Director\",\n          \"Individual Contributor/Staff\"\n        ],\n        \"semantic_type\": \"\",\n        \"description\": \"\"\n      }\n    },\n    {\n      \"column\": \"Column 4\",\n      \"properties\": {\n        \"dtype\": \"category\",\n        \"num_unique_values\": 1,\n        \"samples\": [\n          \"Director\"\n        ],\n        \"semantic_type\": \"\",\n        \"description\": \"\"\n      }\n    }\n  ]\n}"
            }
          },
          "metadata": {},
          "execution_count": 43
        }
      ],
      "source": [
        "data = pd.read_excel(\"JobLevelData.xlsx\")\n",
        "data.head()"
      ]
    },
    {
      "cell_type": "code",
      "execution_count": 44,
      "metadata": {
        "id": "20aBDmMErpao"
      },
      "outputs": [],
      "source": [
        "# Step 1: Data Preprocessing\n",
        "# Filling missing values in the dataset with an empty string to ensure consistent handling of missing data\n",
        "data.fillna(\"\", inplace=True)\n",
        "\n",
        "# Combining labels from Columns 1 to 4 into a single list for each job title\n",
        "# Only non-empty labels are included in the list\n",
        "data[\"labels\"] = data[[\"Column 1\", \"Column 2\", \"Column 3\", \"Column 4\"]].apply(\n",
        "    lambda x: [label for label in x if label], axis=1\n",
        ")\n",
        "\n",
        "# Applying MultiLabelBinarizer to transform labels into a binary format\n",
        "# This allows the model to process multi-label classification effectively\n",
        "mlb = MultiLabelBinarizer()\n",
        "labels = mlb.fit_transform(data[\"labels\"])\n",
        "\n",
        "\n",
        "# Step 2: Dataset Creation\n",
        "# Creating a custom dataset class for PyTorch to handle job titles and their corresponding labels\n",
        "class JobTitlesDataset(Dataset):\n",
        "    def __init__(self, titles, labels):\n",
        "        self.titles = titles\n",
        "        self.labels = labels\n",
        "\n",
        "    def __len__(self):\n",
        "        return len(self.titles)\n",
        "\n",
        "    def __getitem__(self, idx):\n",
        "        # Tokenizing the text of the job title\n",
        "        # Using padding, truncation, and a maximum length of 128 tokens to ensure uniformity\n",
        "        encodings = tokenizer(\n",
        "            self.titles[idx],\n",
        "            padding=\"max_length\",\n",
        "            truncation=True,\n",
        "            max_length=128,\n",
        "            return_tensors=\"pt\"\n",
        "        )\n",
        "        # Preparing the input for the model\n",
        "        item = {key: val.squeeze(0) for key, val in encodings.items()}\n",
        "        # Converting labels to a tensor of type float\n",
        "        item[\"labels\"] = torch.tensor(self.labels[idx], dtype=torch.float)\n",
        "        return item\n",
        "\n",
        "# Step 3: Data Splitting\n",
        "# Splitting the data into training and validation sets\n",
        "# 80% of the data is used for training, and 20% is used for validation\n",
        "train_texts, val_texts, train_labels, val_labels = train_test_split(\n",
        "    data[\"Title\"].tolist(), labels, test_size=0.2, random_state=42\n",
        ")\n",
        "\n",
        "# Creating training and validation datasets using the custom dataset class\n",
        "train_dataset = JobTitlesDataset(train_texts, train_labels)\n",
        "val_dataset = JobTitlesDataset(val_texts, val_labels)\n"
      ]
    },
    {
      "cell_type": "code",
      "source": [
        "tokenizer = BertTokenizer.from_pretrained(\"bert-base-uncased\")\n",
        "model = BertForSequenceClassification.from_pretrained(\"bert-base-uncased\", num_labels=len(mlb.classes_), problem_type=\"multi_label_classification\")\n",
        "data_collator = DataCollatorWithPadding(tokenizer=tokenizer)\n"
      ],
      "metadata": {
        "colab": {
          "base_uri": "https://localhost:8080/"
        },
        "id": "jDtunfIRhxSS",
        "outputId": "8b7671a0-eb0b-4485-f81d-d87fe73999ae"
      },
      "execution_count": 45,
      "outputs": [
        {
          "output_type": "stream",
          "name": "stderr",
          "text": [
            "/usr/local/lib/python3.11/dist-packages/huggingface_hub/utils/_auth.py:94: UserWarning: \n",
            "The secret `HF_TOKEN` does not exist in your Colab secrets.\n",
            "To authenticate with the Hugging Face Hub, create a token in your settings tab (https://huggingface.co/settings/tokens), set it as secret in your Google Colab and restart your session.\n",
            "You will be able to reuse this secret in all of your notebooks.\n",
            "Please note that authentication is recommended but still optional to access public models or datasets.\n",
            "  warnings.warn(\n",
            "Some weights of BertForSequenceClassification were not initialized from the model checkpoint at bert-base-uncased and are newly initialized: ['classifier.bias', 'classifier.weight']\n",
            "You should probably TRAIN this model on a down-stream task to be able to use it for predictions and inference.\n"
          ]
        }
      ]
    },
    {
      "cell_type": "code",
      "source": [
        "import os\n",
        "os.environ[\"WANDB_MODE\"] = \"disabled\"\n"
      ],
      "metadata": {
        "id": "OlxrufDmxtOL"
      },
      "execution_count": 46,
      "outputs": []
    },
    {
      "cell_type": "code",
      "execution_count": 47,
      "metadata": {
        "colab": {
          "base_uri": "https://localhost:8080/",
          "height": 276
        },
        "id": "zTSGV6Cvrpap",
        "outputId": "9cbc90f3-64d5-43b2-906b-7d480ad25aee"
      },
      "outputs": [
        {
          "output_type": "stream",
          "name": "stderr",
          "text": [
            "\u001b[34m\u001b[1mwandb\u001b[0m: \u001b[33mWARNING\u001b[0m The `run_name` is currently set to the same value as `TrainingArguments.output_dir`. If this was not intended, please specify a different run name by setting the `TrainingArguments.run_name` parameter.\n"
          ]
        },
        {
          "output_type": "display_data",
          "data": {
            "text/plain": [
              "<IPython.core.display.HTML object>"
            ],
            "text/html": [
              "\n",
              "    <div>\n",
              "      \n",
              "      <progress value='336' max='336' style='width:300px; height:20px; vertical-align: middle;'></progress>\n",
              "      [336/336 03:00, Epoch 3/3]\n",
              "    </div>\n",
              "    <table border=\"1\" class=\"dataframe\">\n",
              "  <thead>\n",
              " <tr style=\"text-align: left;\">\n",
              "      <th>Epoch</th>\n",
              "      <th>Training Loss</th>\n",
              "      <th>Validation Loss</th>\n",
              "    </tr>\n",
              "  </thead>\n",
              "  <tbody>\n",
              "    <tr>\n",
              "      <td>1</td>\n",
              "      <td>0.183200</td>\n",
              "      <td>0.133489</td>\n",
              "    </tr>\n",
              "    <tr>\n",
              "      <td>2</td>\n",
              "      <td>0.094900</td>\n",
              "      <td>0.108019</td>\n",
              "    </tr>\n",
              "    <tr>\n",
              "      <td>3</td>\n",
              "      <td>0.087700</td>\n",
              "      <td>0.096410</td>\n",
              "    </tr>\n",
              "  </tbody>\n",
              "</table><p>"
            ]
          },
          "metadata": {}
        },
        {
          "output_type": "execute_result",
          "data": {
            "text/plain": [
              "('./job_title_classifier/tokenizer_config.json',\n",
              " './job_title_classifier/special_tokens_map.json',\n",
              " './job_title_classifier/vocab.txt',\n",
              " './job_title_classifier/added_tokens.json')"
            ]
          },
          "metadata": {},
          "execution_count": 47
        }
      ],
      "source": [
        "# Training arguments\n",
        "training_args = TrainingArguments(\n",
        "    output_dir=\"./results\",\n",
        "    eval_strategy=\"epoch\",\n",
        "    save_strategy=\"epoch\",\n",
        "    per_device_train_batch_size=16,\n",
        "    per_device_eval_batch_size=16,\n",
        "    num_train_epochs=3,\n",
        "    learning_rate=5e-5,\n",
        "    weight_decay=0.01,\n",
        "    load_best_model_at_end=True,\n",
        ")\n",
        "\n",
        "# Trainer\n",
        "trainer = Trainer(\n",
        "    model=model,\n",
        "    args=training_args,\n",
        "    train_dataset=train_dataset,\n",
        "    eval_dataset=val_dataset,\n",
        "    data_collator=data_collator\n",
        ")\n",
        "\n",
        "# Train and evaluate\n",
        "trainer.train()\n",
        "\n",
        "# Save the model and tokenizer\n",
        "model.save_pretrained(\"./job_title_classifier\")\n",
        "tokenizer.save_pretrained(\"./job_title_classifier\")"
      ]
    },
    {
      "cell_type": "code",
      "source": [
        "# Load the fine-tuned model and tokenizer\n",
        "model_path = \"./job_title_classifier\"\n",
        "tokenizer = BertTokenizer.from_pretrained(model_path)\n",
        "model = BertForSequenceClassification.from_pretrained(model_path)\n",
        "model.eval()"
      ],
      "metadata": {
        "colab": {
          "base_uri": "https://localhost:8080/"
        },
        "id": "EtAuFaQvklMW",
        "outputId": "cd0485b5-f471-4836-d57d-450243d98c1d"
      },
      "execution_count": 49,
      "outputs": [
        {
          "output_type": "execute_result",
          "data": {
            "text/plain": [
              "BertForSequenceClassification(\n",
              "  (bert): BertModel(\n",
              "    (embeddings): BertEmbeddings(\n",
              "      (word_embeddings): Embedding(30522, 768, padding_idx=0)\n",
              "      (position_embeddings): Embedding(512, 768)\n",
              "      (token_type_embeddings): Embedding(2, 768)\n",
              "      (LayerNorm): LayerNorm((768,), eps=1e-12, elementwise_affine=True)\n",
              "      (dropout): Dropout(p=0.1, inplace=False)\n",
              "    )\n",
              "    (encoder): BertEncoder(\n",
              "      (layer): ModuleList(\n",
              "        (0-11): 12 x BertLayer(\n",
              "          (attention): BertAttention(\n",
              "            (self): BertSdpaSelfAttention(\n",
              "              (query): Linear(in_features=768, out_features=768, bias=True)\n",
              "              (key): Linear(in_features=768, out_features=768, bias=True)\n",
              "              (value): Linear(in_features=768, out_features=768, bias=True)\n",
              "              (dropout): Dropout(p=0.1, inplace=False)\n",
              "            )\n",
              "            (output): BertSelfOutput(\n",
              "              (dense): Linear(in_features=768, out_features=768, bias=True)\n",
              "              (LayerNorm): LayerNorm((768,), eps=1e-12, elementwise_affine=True)\n",
              "              (dropout): Dropout(p=0.1, inplace=False)\n",
              "            )\n",
              "          )\n",
              "          (intermediate): BertIntermediate(\n",
              "            (dense): Linear(in_features=768, out_features=3072, bias=True)\n",
              "            (intermediate_act_fn): GELUActivation()\n",
              "          )\n",
              "          (output): BertOutput(\n",
              "            (dense): Linear(in_features=3072, out_features=768, bias=True)\n",
              "            (LayerNorm): LayerNorm((768,), eps=1e-12, elementwise_affine=True)\n",
              "            (dropout): Dropout(p=0.1, inplace=False)\n",
              "          )\n",
              "        )\n",
              "      )\n",
              "    )\n",
              "    (pooler): BertPooler(\n",
              "      (dense): Linear(in_features=768, out_features=768, bias=True)\n",
              "      (activation): Tanh()\n",
              "    )\n",
              "  )\n",
              "  (dropout): Dropout(p=0.1, inplace=False)\n",
              "  (classifier): Linear(in_features=768, out_features=6, bias=True)\n",
              ")"
            ]
          },
          "metadata": {},
          "execution_count": 49
        }
      ]
    },
    {
      "cell_type": "code",
      "source": [
        "mlb_classes = ['Chief Officer', 'Director', 'Individual Contributor/Staff', 'Manager', 'Owner', 'Vice President']\n",
        "\n",
        "def predict_labels_with_threshold(job_titles, threshold):\n",
        "    \"\"\"\n",
        "    Predicts labels for a list of job titles using the fine-tuned BERT model and a given threshold.\n",
        "\n",
        "    Args:\n",
        "        job_titles (list): List of job titles as strings.\n",
        "        threshold (float): Probability threshold for classification.\n",
        "\n",
        "    Returns:\n",
        "        np.ndarray: Predicted binary labels for each job title.\n",
        "    \"\"\"\n",
        "    predictions = []\n",
        "    for title in job_titles:\n",
        "        # Tokenize the input title\n",
        "        inputs = tokenizer(title, padding=\"max_length\", truncation=True, max_length=128, return_tensors=\"pt\")\n",
        "\n",
        "        # Perform inference\n",
        "        with torch.no_grad():\n",
        "            outputs = model(**inputs)\n",
        "\n",
        "        # Apply sigmoid to get probabilities\n",
        "        probs = torch.sigmoid(outputs.logits).squeeze().tolist()\n",
        "\n",
        "        # Convert probabilities to binary predictions using the threshold\n",
        "        binary_predictions = [1 if prob > threshold else 0 for prob in probs]\n",
        "        predictions.append(binary_predictions)\n",
        "\n",
        "    return np.array(predictions)\n",
        "\n",
        "def find_best_threshold(job_titles, y_true, thresholds=np.arange(0.15, 0.95, 0.1)):\n",
        "    \"\"\"\n",
        "    Finds the best threshold for classification based on a prioritized metric (F1, accuracy, etc.).\n",
        "\n",
        "    Args:\n",
        "        job_titles (list): List of job titles as strings.\n",
        "        y_true (np.ndarray): Ground truth binary labels.\n",
        "        thresholds (np.ndarray): List of thresholds to evaluate.\n",
        "\n",
        "    Returns:\n",
        "        float: Best threshold.\n",
        "        dict: Metrics (best threshold, F1 score, accuracy).\n",
        "    \"\"\"\n",
        "    best_threshold = 0.0\n",
        "    best_metric = (-float(\"inf\"), 0, 0)  # Prioritize F1 score, then accuracy\n",
        "    results = []\n",
        "\n",
        "    for threshold in thresholds:\n",
        "        y_pred = predict_labels_with_threshold(job_titles, threshold)\n",
        "\n",
        "        # Calculate metrics\n",
        "        f1 = f1_score(y_true, y_pred, average=\"macro\", zero_division=1)\n",
        "        accuracy = accuracy_score(y_true, y_pred)\n",
        "\n",
        "        # Custom metric prioritization (F1 first, then accuracy)\n",
        "        metric = (f1, accuracy)\n",
        "\n",
        "        # Append results for logging\n",
        "        results.append((threshold, f1, accuracy))\n",
        "\n",
        "        # Update best threshold if metrics improve\n",
        "        if metric > best_metric:\n",
        "            best_metric = metric\n",
        "            best_threshold = threshold\n",
        "\n",
        "    return best_threshold\n",
        "\n",
        "# Evaluate thresholds\n",
        "best_threshold_for_BERT = find_best_threshold(val_texts, val_labels)"
      ],
      "metadata": {
        "id": "vqJKB1QfOQVW"
      },
      "execution_count": 50,
      "outputs": []
    },
    {
      "cell_type": "code",
      "source": [
        "def evaluate_with_best_threshold(job_titles, y_true, best_threshold):\n",
        "    \"\"\"\n",
        "    Evaluates the model using the best threshold and calculates precision, recall, F1 score, and accuracy.\n",
        "\n",
        "    Args:\n",
        "        job_titles (list): List of job titles as strings.\n",
        "        y_true (np.ndarray): Ground truth binary labels.\n",
        "        best_threshold (float): Best threshold for classification.\n",
        "\n",
        "    Returns:\n",
        "        dict: Evaluation metrics (precision, recall, F1 score, accuracy).\n",
        "    \"\"\"\n",
        "    # Predict labels with the best threshold\n",
        "    y_pred = predict_labels_with_threshold(job_titles, best_threshold)\n",
        "\n",
        "    # Calculate metrics\n",
        "    precision = precision_score(y_true, y_pred, average=\"macro\", zero_division=1)\n",
        "    recall = recall_score(y_true, y_pred, average=\"macro\", zero_division=1)\n",
        "    f1 = f1_score(y_true, y_pred, average=\"macro\", zero_division=1)\n",
        "    accuracy = accuracy_score(y_true, y_pred)\n",
        "\n",
        "    return {\n",
        "        \"precision\": precision,\n",
        "        \"recall\": recall,\n",
        "        \"f1_score\": f1,\n",
        "        \"accuracy\": accuracy\n",
        "    }\n",
        "\n",
        "\n",
        "# Calculate metrics with the best threshold\n",
        "final_metrics = evaluate_with_best_threshold(val_texts, val_labels, best_threshold_for_BERT)\n",
        "\n",
        "print(f\"Best Threshold: {best_threshold_for_BERT:.2f}\")\n",
        "print(\"Final Evaluation Metrics:\")\n",
        "print(f\"Precision: {final_metrics['precision']:.4f}\")\n",
        "print(f\"Recall: {final_metrics['recall']:.4f}\")\n",
        "print(f\"F1 Score: {final_metrics['f1_score']:.4f}\")\n",
        "print(f\"Accuracy: {final_metrics['accuracy']:.4f}\")"
      ],
      "metadata": {
        "colab": {
          "base_uri": "https://localhost:8080/"
        },
        "id": "4SZytcxJkYdr",
        "outputId": "ba55d231-9f0f-44df-e0c0-9d8f3958ddf0"
      },
      "execution_count": 51,
      "outputs": [
        {
          "output_type": "stream",
          "name": "stdout",
          "text": [
            "Best Threshold: 0.45\n",
            "Final Evaluation Metrics:\n",
            "Precision: 0.8925\n",
            "Recall: 0.8626\n",
            "F1 Score: 0.8764\n",
            "Accuracy: 0.8750\n"
          ]
        }
      ]
    },
    {
      "cell_type": "markdown",
      "source": [
        "**Method 2 CatBoost Algorithm**  \n",
        "\n",
        "CatBoost is an excellent second choice for this task due to its ability to handle categorical data natively and its robustness with small- to medium-sized datasets."
      ],
      "metadata": {
        "id": "FucaCD8Nn7Zy"
      }
    },
    {
      "cell_type": "code",
      "source": [
        "# Preprocess the \"Title\" column\n",
        "def preprocess_text(text):\n",
        "    # Lowercase the text and remove unnecessary characters\n",
        "    return text.lower()\n",
        "\n",
        "data['Title'] = data['Title'].apply(preprocess_text)\n",
        "\n",
        "# Convert \"Title\" to numeric features using TfidfVectorizer\n",
        "tfidf = TfidfVectorizer(max_features=500)\n",
        "X_features = tfidf.fit_transform(data['Title']).toarray()\n",
        "\n",
        "# Split data into train and test sets\n",
        "X_train, X_test, y_train, y_test = train_test_split(X_features, labels, test_size=0.2, random_state=42)"
      ],
      "metadata": {
        "id": "kmJEmqIQofpc"
      },
      "execution_count": 52,
      "outputs": []
    },
    {
      "cell_type": "code",
      "source": [
        "# Initialize the CatBoostClassifier for multi-label classification\n",
        "cat_boost_model = CatBoostClassifier(\n",
        "    iterations=2000,\n",
        "    depth=7,\n",
        "    learning_rate=0.05,\n",
        "    loss_function='MultiLogloss',\n",
        "    task_type=\"CPU\",\n",
        "    random_seed=42\n",
        ")\n",
        "\n",
        "# Train the model\n",
        "cat_boost_model.fit(X_train, y_train, verbose=50)"
      ],
      "metadata": {
        "colab": {
          "base_uri": "https://localhost:8080/"
        },
        "id": "qPXIS5B7ofrk",
        "outputId": "850c4787-23a6-4c05-eb1c-3bbbaaab6a95"
      },
      "execution_count": 67,
      "outputs": [
        {
          "output_type": "stream",
          "name": "stdout",
          "text": [
            "0:\tlearn: 0.6288488\ttotal: 83ms\tremaining: 2m 45s\n",
            "50:\tlearn: 0.1399074\ttotal: 6.3s\tremaining: 4m\n",
            "100:\tlearn: 0.1089963\ttotal: 11.7s\tremaining: 3m 40s\n",
            "150:\tlearn: 0.0950120\ttotal: 15.2s\tremaining: 3m 6s\n",
            "200:\tlearn: 0.0839259\ttotal: 19.6s\tremaining: 2m 55s\n",
            "250:\tlearn: 0.0717664\ttotal: 22.6s\tremaining: 2m 37s\n",
            "300:\tlearn: 0.0635438\ttotal: 25.5s\tremaining: 2m 23s\n",
            "350:\tlearn: 0.0573158\ttotal: 28.5s\tremaining: 2m 13s\n",
            "400:\tlearn: 0.0522393\ttotal: 32.9s\tremaining: 2m 11s\n",
            "450:\tlearn: 0.0472612\ttotal: 35.9s\tremaining: 2m 3s\n",
            "500:\tlearn: 0.0434622\ttotal: 38.8s\tremaining: 1m 56s\n",
            "550:\tlearn: 0.0401983\ttotal: 41.8s\tremaining: 1m 49s\n",
            "600:\tlearn: 0.0364641\ttotal: 46.2s\tremaining: 1m 47s\n",
            "650:\tlearn: 0.0344435\ttotal: 49.1s\tremaining: 1m 41s\n",
            "700:\tlearn: 0.0325126\ttotal: 52.1s\tremaining: 1m 36s\n",
            "750:\tlearn: 0.0304285\ttotal: 55s\tremaining: 1m 31s\n",
            "800:\tlearn: 0.0286401\ttotal: 59.4s\tremaining: 1m 28s\n",
            "850:\tlearn: 0.0269234\ttotal: 1m 3s\tremaining: 1m 25s\n",
            "900:\tlearn: 0.0251387\ttotal: 1m 6s\tremaining: 1m 21s\n",
            "950:\tlearn: 0.0237865\ttotal: 1m 9s\tremaining: 1m 17s\n",
            "1000:\tlearn: 0.0224784\ttotal: 1m 13s\tremaining: 1m 13s\n",
            "1050:\tlearn: 0.0211933\ttotal: 1m 16s\tremaining: 1m 9s\n",
            "1100:\tlearn: 0.0201038\ttotal: 1m 19s\tremaining: 1m 5s\n",
            "1150:\tlearn: 0.0192847\ttotal: 1m 22s\tremaining: 1m 1s\n",
            "1200:\tlearn: 0.0182956\ttotal: 1m 26s\tremaining: 57.8s\n",
            "1250:\tlearn: 0.0176049\ttotal: 1m 29s\tremaining: 53.8s\n",
            "1300:\tlearn: 0.0167905\ttotal: 1m 32s\tremaining: 49.9s\n",
            "1350:\tlearn: 0.0161623\ttotal: 1m 35s\tremaining: 46s\n",
            "1400:\tlearn: 0.0154593\ttotal: 1m 40s\tremaining: 42.8s\n",
            "1450:\tlearn: 0.0148332\ttotal: 1m 42s\tremaining: 39s\n",
            "1500:\tlearn: 0.0141734\ttotal: 1m 45s\tremaining: 35.2s\n",
            "1550:\tlearn: 0.0136633\ttotal: 1m 48s\tremaining: 31.5s\n",
            "1600:\tlearn: 0.0131692\ttotal: 1m 53s\tremaining: 28.2s\n",
            "1650:\tlearn: 0.0127429\ttotal: 1m 56s\tremaining: 24.6s\n",
            "1700:\tlearn: 0.0122998\ttotal: 1m 59s\tremaining: 21s\n",
            "1750:\tlearn: 0.0118986\ttotal: 2m 2s\tremaining: 17.4s\n",
            "1800:\tlearn: 0.0115205\ttotal: 2m 6s\tremaining: 14s\n",
            "1850:\tlearn: 0.0111962\ttotal: 2m 9s\tremaining: 10.4s\n",
            "1900:\tlearn: 0.0108256\ttotal: 2m 12s\tremaining: 6.9s\n",
            "1950:\tlearn: 0.0105084\ttotal: 2m 15s\tremaining: 3.4s\n",
            "1999:\tlearn: 0.0102417\ttotal: 2m 19s\tremaining: 0us\n"
          ]
        },
        {
          "output_type": "execute_result",
          "data": {
            "text/plain": [
              "<catboost.core.CatBoostClassifier at 0x7ae48c110c50>"
            ]
          },
          "metadata": {},
          "execution_count": 67
        }
      ]
    },
    {
      "cell_type": "code",
      "source": [
        "cat_boost_model.save_model(\"catboost_model.cbm\")\n",
        "joblib.dump(tfidf, \"tfidf_vectorizer.pkl\")"
      ],
      "metadata": {
        "colab": {
          "base_uri": "https://localhost:8080/"
        },
        "id": "Ac3SGkRBofua",
        "outputId": "d9d098fe-7284-43af-a1cf-5f5224ea93c1"
      },
      "execution_count": 68,
      "outputs": [
        {
          "output_type": "execute_result",
          "data": {
            "text/plain": [
              "['tfidf_vectorizer.pkl']"
            ]
          },
          "metadata": {},
          "execution_count": 68
        }
      ]
    },
    {
      "cell_type": "code",
      "source": [
        "catboost_model = CatBoostClassifier()\n",
        "catboost_model.load_model(\"catboost_model.cbm\")\n",
        "tfidf = joblib.load(\"tfidf_vectorizer.pkl\")"
      ],
      "metadata": {
        "id": "nVPALqtuq3mi"
      },
      "execution_count": 69,
      "outputs": []
    },
    {
      "cell_type": "code",
      "source": [],
      "metadata": {
        "id": "n1LwZzcEq3o-"
      },
      "execution_count": 69,
      "outputs": []
    },
    {
      "cell_type": "code",
      "source": [
        "def predict_labels_with_threshold(job_titles, threshold):\n",
        "    \"\"\"\n",
        "    Predicts labels for a list of job titles using the trained CatBoost model and a given threshold.\n",
        "\n",
        "    Args:\n",
        "        job_titles (list): List of job titles as strings.\n",
        "        threshold (float): Probability threshold for classification.\n",
        "\n",
        "    Returns:\n",
        "        np.ndarray: Predicted binary labels for each job title.\n",
        "    \"\"\"\n",
        "    # Convert job titles to features using the same TfidfVectorizer\n",
        "    features = tfidf.transform(job_titles).toarray()\n",
        "\n",
        "    # Perform inference\n",
        "    probs = catboost_model.predict_proba(features)\n",
        "\n",
        "    # Convert probabilities to binary predictions using the threshold\n",
        "    binary_predictions = (probs > threshold).astype(int)\n",
        "\n",
        "    return binary_predictions\n",
        "\n",
        "def find_best_threshold(job_titles, y_true, thresholds=np.arange(0.25, 0.95, 0.01)):\n",
        "    \"\"\"\n",
        "    Finds the best threshold for classification based on a prioritized metric (F1, accuracy, etc.).\n",
        "\n",
        "    Args:\n",
        "        job_titles (list): List of job titles as strings.\n",
        "        y_true (np.ndarray): Ground truth binary labels.\n",
        "        thresholds (np.ndarray): List of thresholds to evaluate.\n",
        "\n",
        "    Returns:\n",
        "        float: Best threshold.\n",
        "        dict: Metrics (best threshold, F1 score, accuracy).\n",
        "    \"\"\"\n",
        "    best_threshold = 0.0\n",
        "    best_metric = (-float(\"inf\"), 0, 0)  # Prioritize F1 score, then accuracy\n",
        "    results = []\n",
        "\n",
        "    for threshold in thresholds:\n",
        "        y_pred = predict_labels_with_threshold(job_titles, threshold)\n",
        "\n",
        "        # Calculate metrics\n",
        "        f1 = f1_score(y_true, y_pred, average=\"macro\", zero_division=1)\n",
        "        accuracy = accuracy_score(y_true, y_pred)\n",
        "\n",
        "        # Custom metric prioritization (F1 first, then accuracy)\n",
        "        metric = (f1, accuracy)\n",
        "\n",
        "        # Append results for logging\n",
        "        results.append((threshold, f1, accuracy))\n",
        "\n",
        "        # Update best threshold if metrics improve\n",
        "        if metric > best_metric:\n",
        "            best_metric = metric\n",
        "            best_threshold = threshold\n",
        "\n",
        "    return best_threshold\n",
        "\n",
        "# Evaluate thresholds\n",
        "best_threshold_for_catboost = find_best_threshold(val_texts, val_labels)"
      ],
      "metadata": {
        "id": "I7Rj2YEOq3sG"
      },
      "execution_count": 70,
      "outputs": []
    },
    {
      "cell_type": "code",
      "source": [
        "def evaluate_with_best_threshold(job_titles, y_true, best_threshold):\n",
        "    \"\"\"\n",
        "    Evaluates the model using the best threshold and calculates precision, recall, F1 score, and accuracy.\n",
        "\n",
        "    Args:\n",
        "        job_titles (list): List of job titles as strings.\n",
        "        y_true (np.ndarray): Ground truth binary labels.\n",
        "        best_threshold (float): Best threshold for classification.\n",
        "\n",
        "    Returns:\n",
        "        dict: Evaluation metrics (precision, recall, F1 score, accuracy).\n",
        "    \"\"\"\n",
        "    # Predict labels with the best threshold\n",
        "    y_pred = predict_labels_with_threshold(job_titles, best_threshold)\n",
        "\n",
        "    # Calculate metrics\n",
        "    precision = precision_score(y_true, y_pred, average=\"macro\", zero_division=1)\n",
        "    recall = recall_score(y_true, y_pred, average=\"macro\", zero_division=1)\n",
        "    f1 = f1_score(y_true, y_pred, average=\"macro\", zero_division=1)\n",
        "    accuracy = accuracy_score(y_true, y_pred)\n",
        "\n",
        "    return {\n",
        "        \"precision\": precision,\n",
        "        \"recall\": recall,\n",
        "        \"f1_score\": f1,\n",
        "        \"accuracy\": accuracy\n",
        "    }\n",
        "\n",
        "# Calculate metrics with the best threshold\n",
        "final_metrics = evaluate_with_best_threshold(val_texts, val_labels, best_threshold_for_catboost)\n",
        "\n",
        "print(f\"Best Threshold: {best_threshold_for_catboost:.2f}\")\n",
        "print(\"Final Evaluation Metrics:\")\n",
        "print(f\"Precision: {final_metrics['precision']:.4f}\")\n",
        "print(f\"Recall: {final_metrics['recall']:.4f}\")\n",
        "print(f\"F1 Score: {final_metrics['f1_score']:.4f}\")\n",
        "print(f\"Accuracy: {final_metrics['accuracy']:.4f}\")\n"
      ],
      "metadata": {
        "colab": {
          "base_uri": "https://localhost:8080/"
        },
        "id": "g1U4eQMOrBOc",
        "outputId": "46001a80-a3e3-40b5-8996-3598c437205d"
      },
      "execution_count": 71,
      "outputs": [
        {
          "output_type": "stream",
          "name": "stdout",
          "text": [
            "Best Threshold: 0.28\n",
            "Final Evaluation Metrics:\n",
            "Precision: 0.8665\n",
            "Recall: 0.8531\n",
            "F1 Score: 0.8584\n",
            "Accuracy: 0.8504\n"
          ]
        }
      ]
    },
    {
      "cell_type": "code",
      "source": [
        "def classify_with_bert(job_titles, threshold=0.5):\n",
        "    \"\"\"\n",
        "    Classifies a list of job titles using the fine-tuned BERT model and a given threshold.\n",
        "\n",
        "    Args:\n",
        "        job_titles (list): List of job titles as strings.\n",
        "        threshold (float): Probability threshold for classification.\n",
        "\n",
        "    Returns:\n",
        "        list: Predicted labels for each job title.\n",
        "    \"\"\"\n",
        "    predictions = []\n",
        "\n",
        "    for title in job_titles:\n",
        "        # Tokenize the input title\n",
        "        inputs = tokenizer(title, padding=\"max_length\", truncation=True, max_length=128, return_tensors=\"pt\")\n",
        "\n",
        "        # Perform inference\n",
        "        with torch.no_grad():\n",
        "            outputs = model(**inputs)\n",
        "\n",
        "        # Apply sigmoid to get probabilities\n",
        "        probs = torch.sigmoid(outputs.logits).squeeze().tolist()\n",
        "\n",
        "        # Convert probabilities to binary predictions using the threshold\n",
        "        binary_predictions = [mlb.classes_[i] for i, prob in enumerate(probs) if prob > threshold]\n",
        "\n",
        "        predictions.append(binary_predictions)\n",
        "\n",
        "    return predictions\n"
      ],
      "metadata": {
        "id": "y_PChbkjrBTn"
      },
      "execution_count": 72,
      "outputs": []
    },
    {
      "cell_type": "code",
      "source": [
        "def classify_with_catboost(job_titles, threshold=0.5):\n",
        "    \"\"\"\n",
        "    Classifies a list of job titles using the trained CatBoost model and a given threshold.\n",
        "\n",
        "    Args:\n",
        "        job_titles (list): List of job titles as strings.\n",
        "        threshold (float): Probability threshold for classification.\n",
        "\n",
        "    Returns:\n",
        "        list: Predicted labels for each job title.\n",
        "    \"\"\"\n",
        "    # Convert job titles to features using the same TfidfVectorizer\n",
        "    features = tfidf.transform(job_titles).toarray()\n",
        "\n",
        "    # Perform inference\n",
        "    probs = cat_boost_model.predict_proba(features)\n",
        "\n",
        "    # Get the predicted binary labels based on the threshold\n",
        "    binary_predictions = (probs > threshold).astype(int)\n",
        "\n",
        "    # Map the binary predictions back to the corresponding labels\n",
        "    predictions = []\n",
        "    for pred in binary_predictions:\n",
        "        predicted_labels = [mlb_classes[i] for i, val in enumerate(pred) if val == 1]\n",
        "        predictions.append(predicted_labels)\n",
        "\n",
        "    return predictions\n"
      ],
      "metadata": {
        "id": "MmIXPWuCWkhu"
      },
      "execution_count": 73,
      "outputs": []
    },
    {
      "cell_type": "code",
      "source": [
        "# Example job titles\n",
        "job_titles = [\n",
        "    \"Senior Software Engineer\",\n",
        "    \"Chief Executive Officer\",\n",
        "    \"Marketing Manager\"\n",
        "]\n",
        "\n",
        "# Classify using BERT\n",
        "bert_predictions = classify_with_bert(job_titles, threshold=best_threshold_for_BERT)\n",
        "print(\"BERT Predictions:\", bert_predictions)\n",
        "\n",
        "# Classify using CatBoost\n",
        "catboost_predictions = classify_with_catboost(job_titles, threshold=best_threshold_for_catboost)\n",
        "print(\"CatBoost Predictions:\", catboost_predictions)\n"
      ],
      "metadata": {
        "colab": {
          "base_uri": "https://localhost:8080/"
        },
        "id": "DeQQxfl5tQ6h",
        "outputId": "3b083b72-7c9f-4ac5-da3c-913b669fef15"
      },
      "execution_count": 74,
      "outputs": [
        {
          "output_type": "stream",
          "name": "stdout",
          "text": [
            "BERT Predictions: [['Individual Contributor/Staff'], ['Chief Officer'], ['Manager']]\n",
            "CatBoost Predictions: [['Individual Contributor/Staff'], ['Chief Officer'], ['Manager']]\n"
          ]
        }
      ]
    },
    {
      "cell_type": "code",
      "source": [],
      "metadata": {
        "id": "cDx13ufJtSwK"
      },
      "execution_count": 74,
      "outputs": []
    },
    {
      "cell_type": "markdown",
      "source": [
        "**Did not have enogh time to tune all hyperparameters, in case of tuning I think all metrics will be increased**"
      ],
      "metadata": {
        "id": "-ANPgL79x3wi"
      }
    },
    {
      "cell_type": "code",
      "source": [],
      "metadata": {
        "id": "fguvj0a2yE7R"
      },
      "execution_count": null,
      "outputs": []
    }
  ],
  "metadata": {
    "kernelspec": {
      "display_name": "Python 3",
      "name": "python3"
    },
    "language_info": {
      "codemirror_mode": {
        "name": "ipython",
        "version": 3
      },
      "file_extension": ".py",
      "mimetype": "text/x-python",
      "name": "python",
      "nbconvert_exporter": "python",
      "pygments_lexer": "ipython3",
      "version": "3.11.7"
    },
    "colab": {
      "provenance": [],
      "gpuType": "T4"
    },
    "accelerator": "GPU"
  },
  "nbformat": 4,
  "nbformat_minor": 0
}