{
  "cells": [
    {
      "cell_type": "markdown",
      "metadata": {
        "id": "7pCweUqFdjyY"
      },
      "source": [
        "**Method 1 Transformer based architecture**\n",
        "\n",
        "Since the dataset contains text data (job titles) with multiple possible labels, a transformer-based model like BERT is a perfect fit. Transformers are great at capturing the relationships between words in context, which makes them particularly effective for understanding job titles, especially when the titles include specific industry terms."
      ]
    },
    {
      "cell_type": "code",
      "metadata": {
        "id": "TZZX2sp1rpam"
      },
      "source": [
        "import os\n",
        "import numpy as np\n",
        "import pandas as pd\n",
        "import torch\n",
        "from tqdm import tqdm\n",
        "from sklearn.model_selection import train_test_split\n",
        "from sklearn.preprocessing import MultiLabelBinarizer\n",
        "from transformers import BertTokenizer, BertForSequenceClassification, Trainer, TrainingArguments\n",
        "from torch.utils.data import Dataset\n",
        "from transformers import DataCollatorWithPadding\n",
        "from sklearn.metrics import f1_score, accuracy_score, precision_score, recall_score\n",
        "from sklearn.feature_extraction.text import TfidfVectorizer\n",
        "from catboost import CatBoostClassifier\n",
        "import joblib"
      ],
      "outputs": [],
      "execution_count": 6
    },
    {
      "cell_type": "code",
      "metadata": {
        "colab": {
          "base_uri": "https://localhost:8080/",
          "height": 206
        },
        "id": "WUBQzRCLrpao",
        "outputId": "d2c31e95-f8cd-46e8-811c-cd424eca4a30"
      },
      "source": [
        "data = pd.read_excel(\"path/to/dataset\")\n",
        "data.head()"
      ],
      "outputs": [
        {
          "output_type": "execute_result",
          "data": {
            "text/plain": [
              "                                               Title        Column 1  \\\n",
              "0   Vice President / Director of Systems Engineering  Vice President   \n",
              "1                Systems Engineer; Systems Architect         Manager   \n",
              "2  Executive Director, Global IT Infrastructure /...        Director   \n",
              "3      CTO/Executive Director of Technology Services        Director   \n",
              "4                                Vice President, CIO  Vice President   \n",
              "\n",
              "                       Column 2 Column 3 Column 4  \n",
              "0                           NaN      NaN      NaN  \n",
              "1  Individual Contributor/Staff      NaN      NaN  \n",
              "2                 Chief Officer      NaN      NaN  \n",
              "3                 Chief Officer      NaN      NaN  \n",
              "4                           NaN      NaN      NaN  "
            ],
            "text/html": [
              "\n",
              "  <div id=\"df-8dd0898b-15da-427a-be82-6c0fd9299115\" class=\"colab-df-container\">\n",
              "    <div>\n",
              "<style scoped>\n",
              "    .dataframe tbody tr th:only-of-type {\n",
              "        vertical-align: middle;\n",
              "    }\n",
              "\n",
              "    .dataframe tbody tr th {\n",
              "        vertical-align: top;\n",
              "    }\n",
              "\n",
              "    .dataframe thead th {\n",
              "        text-align: right;\n",
              "    }\n",
              "</style>\n",
              "<table border=\"1\" class=\"dataframe\">\n",
              "  <thead>\n",
              "    <tr style=\"text-align: right;\">\n",
              "      <th></th>\n",
              "      <th>Title</th>\n",
              "      <th>Column 1</th>\n",
              "      <th>Column 2</th>\n",
              "      <th>Column 3</th>\n",
              "      <th>Column 4</th>\n",
              "    </tr>\n",
              "  </thead>\n",
              "  <tbody>\n",
              "    <tr>\n",
              "      <th>0</th>\n",
              "      <td>Vice President / Director of Systems Engineering</td>\n",
              "      <td>Vice President</td>\n",
              "      <td>NaN</td>\n",
              "      <td>NaN</td>\n",
              "      <td>NaN</td>\n",
              "    </tr>\n",
              "    <tr>\n",
              "      <th>1</th>\n",
              "      <td>Systems Engineer; Systems Architect</td>\n",
              "      <td>Manager</td>\n",
              "      <td>Individual Contributor/Staff</td>\n",
              "      <td>NaN</td>\n",
              "      <td>NaN</td>\n",
              "    </tr>\n",
              "    <tr>\n",
              "      <th>2</th>\n",
              "      <td>Executive Director, Global IT Infrastructure /...</td>\n",
              "      <td>Director</td>\n",
              "      <td>Chief Officer</td>\n",
              "      <td>NaN</td>\n",
              "      <td>NaN</td>\n",
              "    </tr>\n",
              "    <tr>\n",
              "      <th>3</th>\n",
              "      <td>CTO/Executive Director of Technology Services</td>\n",
              "      <td>Director</td>\n",
              "      <td>Chief Officer</td>\n",
              "      <td>NaN</td>\n",
              "      <td>NaN</td>\n",
              "    </tr>\n",
              "    <tr>\n",
              "      <th>4</th>\n",
              "      <td>Vice President, CIO</td>\n",
              "      <td>Vice President</td>\n",
              "      <td>NaN</td>\n",
              "      <td>NaN</td>\n",
              "      <td>NaN</td>\n",
              "    </tr>\n",
              "  </tbody>\n",
              "</table>\n",
              "</div>\n",
              "    <div class=\"colab-df-buttons\">\n",
              "\n",
              "  <div class=\"colab-df-container\">\n",
              "    <button class=\"colab-df-convert\" onclick=\"convertToInteractive('df-8dd0898b-15da-427a-be82-6c0fd9299115')\"\n",
              "            title=\"Convert this dataframe to an interactive table.\"\n",
              "            style=\"display:none;\">\n",
              "\n",
              "  <svg xmlns=\"http://www.w3.org/2000/svg\" height=\"24px\" viewBox=\"0 -960 960 960\">\n",
              "    <path d=\"M120-120v-720h720v720H120Zm60-500h600v-160H180v160Zm220 220h160v-160H400v160Zm0 220h160v-160H400v160ZM180-400h160v-160H180v160Zm440 0h160v-160H620v160ZM180-180h160v-160H180v160Zm440 0h160v-160H620v160Z\"/>\n",
              "  </svg>\n",
              "    </button>\n",
              "\n",
              "  <style>\n",
              "    .colab-df-container {\n",
              "      display:flex;\n",
              "      gap: 12px;\n",
              "    }\n",
              "\n",
              "    .colab-df-convert {\n",
              "      background-color: #E8F0FE;\n",
              "      border: none;\n",
              "      border-radius: 50%;\n",
              "      cursor: pointer;\n",
              "      display: none;\n",
              "      fill: #1967D2;\n",
              "      height: 32px;\n",
              "      padding: 0 0 0 0;\n",
              "      width: 32px;\n",
              "    }\n",
              "\n",
              "    .colab-df-convert:hover {\n",
              "      background-color: #E2EBFA;\n",
              "      box-shadow: 0px 1px 2px rgba(60, 64, 67, 0.3), 0px 1px 3px 1px rgba(60, 64, 67, 0.15);\n",
              "      fill: #174EA6;\n",
              "    }\n",
              "\n",
              "    .colab-df-buttons div {\n",
              "      margin-bottom: 4px;\n",
              "    }\n",
              "\n",
              "    [theme=dark] .colab-df-convert {\n",
              "      background-color: #3B4455;\n",
              "      fill: #D2E3FC;\n",
              "    }\n",
              "\n",
              "    [theme=dark] .colab-df-convert:hover {\n",
              "      background-color: #434B5C;\n",
              "      box-shadow: 0px 1px 3px 1px rgba(0, 0, 0, 0.15);\n",
              "      filter: drop-shadow(0px 1px 2px rgba(0, 0, 0, 0.3));\n",
              "      fill: #FFFFFF;\n",
              "    }\n",
              "  </style>\n",
              "\n",
              "    <script>\n",
              "      const buttonEl =\n",
              "        document.querySelector('#df-8dd0898b-15da-427a-be82-6c0fd9299115 button.colab-df-convert');\n",
              "      buttonEl.style.display =\n",
              "        google.colab.kernel.accessAllowed ? 'block' : 'none';\n",
              "\n",
              "      async function convertToInteractive(key) {\n",
              "        const element = document.querySelector('#df-8dd0898b-15da-427a-be82-6c0fd9299115');\n",
              "        const dataTable =\n",
              "          await google.colab.kernel.invokeFunction('convertToInteractive',\n",
              "                                                    [key], {});\n",
              "        if (!dataTable) return;\n",
              "\n",
              "        const docLinkHtml = 'Like what you see? Visit the ' +\n",
              "          '<a target=\"_blank\" href=https://colab.research.google.com/notebooks/data_table.ipynb>data table notebook</a>'\n",
              "          + ' to learn more about interactive tables.';\n",
              "        element.innerHTML = '';\n",
              "        dataTable['output_type'] = 'display_data';\n",
              "        await google.colab.output.renderOutput(dataTable, element);\n",
              "        const docLink = document.createElement('div');\n",
              "        docLink.innerHTML = docLinkHtml;\n",
              "        element.appendChild(docLink);\n",
              "      }\n",
              "    </script>\n",
              "  </div>\n",
              "\n",
              "\n",
              "<div id=\"df-5cd14d72-43d8-47ef-a9b8-fdd5c95418ad\">\n",
              "  <button class=\"colab-df-quickchart\" onclick=\"quickchart('df-5cd14d72-43d8-47ef-a9b8-fdd5c95418ad')\"\n",
              "            title=\"Suggest charts\"\n",
              "            style=\"display:none;\">\n",
              "\n",
              "<svg xmlns=\"http://www.w3.org/2000/svg\" height=\"24px\"viewBox=\"0 0 24 24\"\n",
              "     width=\"24px\">\n",
              "    <g>\n",
              "        <path d=\"M19 3H5c-1.1 0-2 .9-2 2v14c0 1.1.9 2 2 2h14c1.1 0 2-.9 2-2V5c0-1.1-.9-2-2-2zM9 17H7v-7h2v7zm4 0h-2V7h2v10zm4 0h-2v-4h2v4z\"/>\n",
              "    </g>\n",
              "</svg>\n",
              "  </button>\n",
              "\n",
              "<style>\n",
              "  .colab-df-quickchart {\n",
              "      --bg-color: #E8F0FE;\n",
              "      --fill-color: #1967D2;\n",
              "      --hover-bg-color: #E2EBFA;\n",
              "      --hover-fill-color: #174EA6;\n",
              "      --disabled-fill-color: #AAA;\n",
              "      --disabled-bg-color: #DDD;\n",
              "  }\n",
              "\n",
              "  [theme=dark] .colab-df-quickchart {\n",
              "      --bg-color: #3B4455;\n",
              "      --fill-color: #D2E3FC;\n",
              "      --hover-bg-color: #434B5C;\n",
              "      --hover-fill-color: #FFFFFF;\n",
              "      --disabled-bg-color: #3B4455;\n",
              "      --disabled-fill-color: #666;\n",
              "  }\n",
              "\n",
              "  .colab-df-quickchart {\n",
              "    background-color: var(--bg-color);\n",
              "    border: none;\n",
              "    border-radius: 50%;\n",
              "    cursor: pointer;\n",
              "    display: none;\n",
              "    fill: var(--fill-color);\n",
              "    height: 32px;\n",
              "    padding: 0;\n",
              "    width: 32px;\n",
              "  }\n",
              "\n",
              "  .colab-df-quickchart:hover {\n",
              "    background-color: var(--hover-bg-color);\n",
              "    box-shadow: 0 1px 2px rgba(60, 64, 67, 0.3), 0 1px 3px 1px rgba(60, 64, 67, 0.15);\n",
              "    fill: var(--button-hover-fill-color);\n",
              "  }\n",
              "\n",
              "  .colab-df-quickchart-complete:disabled,\n",
              "  .colab-df-quickchart-complete:disabled:hover {\n",
              "    background-color: var(--disabled-bg-color);\n",
              "    fill: var(--disabled-fill-color);\n",
              "    box-shadow: none;\n",
              "  }\n",
              "\n",
              "  .colab-df-spinner {\n",
              "    border: 2px solid var(--fill-color);\n",
              "    border-color: transparent;\n",
              "    border-bottom-color: var(--fill-color);\n",
              "    animation:\n",
              "      spin 1s steps(1) infinite;\n",
              "  }\n",
              "\n",
              "  @keyframes spin {\n",
              "    0% {\n",
              "      border-color: transparent;\n",
              "      border-bottom-color: var(--fill-color);\n",
              "      border-left-color: var(--fill-color);\n",
              "    }\n",
              "    20% {\n",
              "      border-color: transparent;\n",
              "      border-left-color: var(--fill-color);\n",
              "      border-top-color: var(--fill-color);\n",
              "    }\n",
              "    30% {\n",
              "      border-color: transparent;\n",
              "      border-left-color: var(--fill-color);\n",
              "      border-top-color: var(--fill-color);\n",
              "      border-right-color: var(--fill-color);\n",
              "    }\n",
              "    40% {\n",
              "      border-color: transparent;\n",
              "      border-right-color: var(--fill-color);\n",
              "      border-top-color: var(--fill-color);\n",
              "    }\n",
              "    60% {\n",
              "      border-color: transparent;\n",
              "      border-right-color: var(--fill-color);\n",
              "    }\n",
              "    80% {\n",
              "      border-color: transparent;\n",
              "      border-right-color: var(--fill-color);\n",
              "      border-bottom-color: var(--fill-color);\n",
              "    }\n",
              "    90% {\n",
              "      border-color: transparent;\n",
              "      border-bottom-color: var(--fill-color);\n",
              "    }\n",
              "  }\n",
              "</style>\n",
              "\n",
              "  <script>\n",
              "    async function quickchart(key) {\n",
              "      const quickchartButtonEl =\n",
              "        document.querySelector('#' + key + ' button');\n",
              "      quickchartButtonEl.disabled = true;  // To prevent multiple clicks.\n",
              "      quickchartButtonEl.classList.add('colab-df-spinner');\n",
              "      try {\n",
              "        const charts = await google.colab.kernel.invokeFunction(\n",
              "            'suggestCharts', [key], {});\n",
              "      } catch (error) {\n",
              "        console.error('Error during call to suggestCharts:', error);\n",
              "      }\n",
              "      quickchartButtonEl.classList.remove('colab-df-spinner');\n",
              "      quickchartButtonEl.classList.add('colab-df-quickchart-complete');\n",
              "    }\n",
              "    (() => {\n",
              "      let quickchartButtonEl =\n",
              "        document.querySelector('#df-5cd14d72-43d8-47ef-a9b8-fdd5c95418ad button');\n",
              "      quickchartButtonEl.style.display =\n",
              "        google.colab.kernel.accessAllowed ? 'block' : 'none';\n",
              "    })();\n",
              "  </script>\n",
              "</div>\n",
              "\n",
              "    </div>\n",
              "  </div>\n"
            ],
            "application/vnd.google.colaboratory.intrinsic+json": {
              "type": "dataframe",
              "variable_name": "data",
              "summary": "{\n  \"name\": \"data\",\n  \"rows\": 2240,\n  \"fields\": [\n    {\n      \"column\": \"Title\",\n      \"properties\": {\n        \"dtype\": \"string\",\n        \"num_unique_values\": 2240,\n        \"samples\": [\n          \"Information Technology Business Analyst III\",\n          \"NOC Administrator\",\n          \"Technical Director Letsee / Media Center\"\n        ],\n        \"semantic_type\": \"\",\n        \"description\": \"\"\n      }\n    },\n    {\n      \"column\": \"Column 1\",\n      \"properties\": {\n        \"dtype\": \"category\",\n        \"num_unique_values\": 6,\n        \"samples\": [\n          \"Vice President\",\n          \"Manager\",\n          \"Individual Contributor/Staff\"\n        ],\n        \"semantic_type\": \"\",\n        \"description\": \"\"\n      }\n    },\n    {\n      \"column\": \"Column 2\",\n      \"properties\": {\n        \"dtype\": \"category\",\n        \"num_unique_values\": 4,\n        \"samples\": [\n          \"Chief Officer\",\n          \"Director\",\n          \"Individual Contributor/Staff\"\n        ],\n        \"semantic_type\": \"\",\n        \"description\": \"\"\n      }\n    },\n    {\n      \"column\": \"Column 3\",\n      \"properties\": {\n        \"dtype\": \"category\",\n        \"num_unique_values\": 2,\n        \"samples\": [\n          \"Director\",\n          \"Individual Contributor/Staff\"\n        ],\n        \"semantic_type\": \"\",\n        \"description\": \"\"\n      }\n    },\n    {\n      \"column\": \"Column 4\",\n      \"properties\": {\n        \"dtype\": \"category\",\n        \"num_unique_values\": 1,\n        \"samples\": [\n          \"Director\"\n        ],\n        \"semantic_type\": \"\",\n        \"description\": \"\"\n      }\n    }\n  ]\n}"
            }
          },
          "metadata": {},
          "execution_count": 2
        }
      ],
      "execution_count": 2
    },
    {
      "cell_type": "code",
      "metadata": {
        "id": "20aBDmMErpao"
      },
      "source": [
        "# Step 1: Data Preprocessing\n",
        "# Filling missing values in the dataset with an empty string to ensure consistent handling of missing data\n",
        "data = data.drop([\"Column 3\", \"Column 4\"], axis=1)\n",
        "data.fillna(\"\", inplace=True)\n",
        "\n",
        "\n",
        "# Combining labels from Columns 1 and 2 into a single list for each job title\n",
        "# Only non-empty labels are included in the list\n",
        "data[\"labels\"] = data[[\"Column 1\", \"Column 2\"]].apply(\n",
        "    lambda x: [label for label in x if label], axis=1\n",
        ")\n",
        "\n",
        "# Applying MultiLabelBinarizer to transform labels into a binary format\n",
        "# This allows the model to process multi-label classification effectively\n",
        "mlb = MultiLabelBinarizer()\n",
        "labels = mlb.fit_transform(data[\"labels\"])\n",
        "tokenizer = BertTokenizer.from_pretrained(\"bert-base-uncased\")\n",
        "\n",
        "\n",
        "# Step 2: Dataset Creation\n",
        "# Creating a custom dataset class for PyTorch to handle job titles and their corresponding labels\n",
        "class JobTitlesDataset(Dataset):\n",
        "    def __init__(self, titles, labels):\n",
        "        self.titles = titles\n",
        "        self.labels = labels\n",
        "\n",
        "    def __len__(self):\n",
        "        return len(self.titles)\n",
        "\n",
        "    def __getitem__(self, idx):\n",
        "        # Tokenizing the text of the job title\n",
        "        # Using padding, truncation, and a maximum length of 128 tokens to ensure uniformity\n",
        "        encodings = tokenizer(\n",
        "            self.titles[idx],\n",
        "            padding=\"max_length\",\n",
        "            truncation=True,\n",
        "            max_length=128,\n",
        "            return_tensors=\"pt\"\n",
        "        )\n",
        "        # Preparing the input for the model\n",
        "        item = {key: val.squeeze(0) for key, val in encodings.items()}\n",
        "        # Converting labels to a tensor of type float\n",
        "        item[\"labels\"] = torch.tensor(self.labels[idx], dtype=torch.float)\n",
        "        return item\n",
        "\n",
        "# Step 3: Data Splitting\n",
        "# Splitting the data into training and validation sets\n",
        "# 80% of the data is used for training, and 20% is used for validation\n",
        "train_texts, val_texts, train_labels, val_labels = train_test_split(\n",
        "    data[\"Title\"].tolist(), labels, test_size=0.2, random_state=42\n",
        ")\n",
        "\n",
        "# Creating training and validation datasets using the custom dataset class\n",
        "train_dataset = JobTitlesDataset(train_texts, train_labels)\n",
        "val_dataset = JobTitlesDataset(val_texts, val_labels)"
      ],
      "outputs": [],
      "execution_count": 3
    },
    {
      "cell_type": "code",
      "metadata": {
        "colab": {
          "base_uri": "https://localhost:8080/"
        },
        "id": "jDtunfIRhxSS",
        "outputId": "ce036186-5b45-4d68-9a4f-95748d124f9e"
      },
      "source": [
        "model = BertForSequenceClassification.from_pretrained(\"bert-base-uncased\", num_labels=len(mlb.classes_), problem_type=\"multi_label_classification\")\n",
        "data_collator = DataCollatorWithPadding(tokenizer=tokenizer)"
      ],
      "outputs": [
        {
          "output_type": "stream",
          "name": "stderr",
          "text": [
            "/usr/local/lib/python3.11/dist-packages/huggingface_hub/utils/_auth.py:94: UserWarning: \n",
            "The secret `HF_TOKEN` does not exist in your Colab secrets.\n",
            "To authenticate with the Hugging Face Hub, create a token in your settings tab (https://huggingface.co/settings/tokens), set it as secret in your Google Colab and restart your session.\n",
            "You will be able to reuse this secret in all of your notebooks.\n",
            "Please note that authentication is recommended but still optional to access public models or datasets.\n",
            "  warnings.warn(\n",
            "Some weights of BertForSequenceClassification were not initialized from the model checkpoint at bert-base-uncased and are newly initialized: ['classifier.bias', 'classifier.weight']\n",
            "You should probably TRAIN this model on a down-stream task to be able to use it for predictions and inference.\n"
          ]
        }
      ],
      "execution_count": 4
    },
    {
      "cell_type": "code",
      "source": [
        "device = torch.device(\"cuda\" if torch.cuda.is_available() else \"cpu\")\n",
        "model.to(device)"
      ],
      "metadata": {
        "colab": {
          "base_uri": "https://localhost:8080/"
        },
        "id": "yLSoZFFMUYHP",
        "outputId": "8be91fc8-bfc8-492b-fd4b-61b10e985b75"
      },
      "outputs": [
        {
          "output_type": "execute_result",
          "data": {
            "text/plain": [
              "BertForSequenceClassification(\n",
              "  (bert): BertModel(\n",
              "    (embeddings): BertEmbeddings(\n",
              "      (word_embeddings): Embedding(30522, 768, padding_idx=0)\n",
              "      (position_embeddings): Embedding(512, 768)\n",
              "      (token_type_embeddings): Embedding(2, 768)\n",
              "      (LayerNorm): LayerNorm((768,), eps=1e-12, elementwise_affine=True)\n",
              "      (dropout): Dropout(p=0.1, inplace=False)\n",
              "    )\n",
              "    (encoder): BertEncoder(\n",
              "      (layer): ModuleList(\n",
              "        (0-11): 12 x BertLayer(\n",
              "          (attention): BertAttention(\n",
              "            (self): BertSdpaSelfAttention(\n",
              "              (query): Linear(in_features=768, out_features=768, bias=True)\n",
              "              (key): Linear(in_features=768, out_features=768, bias=True)\n",
              "              (value): Linear(in_features=768, out_features=768, bias=True)\n",
              "              (dropout): Dropout(p=0.1, inplace=False)\n",
              "            )\n",
              "            (output): BertSelfOutput(\n",
              "              (dense): Linear(in_features=768, out_features=768, bias=True)\n",
              "              (LayerNorm): LayerNorm((768,), eps=1e-12, elementwise_affine=True)\n",
              "              (dropout): Dropout(p=0.1, inplace=False)\n",
              "            )\n",
              "          )\n",
              "          (intermediate): BertIntermediate(\n",
              "            (dense): Linear(in_features=768, out_features=3072, bias=True)\n",
              "            (intermediate_act_fn): GELUActivation()\n",
              "          )\n",
              "          (output): BertOutput(\n",
              "            (dense): Linear(in_features=3072, out_features=768, bias=True)\n",
              "            (LayerNorm): LayerNorm((768,), eps=1e-12, elementwise_affine=True)\n",
              "            (dropout): Dropout(p=0.1, inplace=False)\n",
              "          )\n",
              "        )\n",
              "      )\n",
              "    )\n",
              "    (pooler): BertPooler(\n",
              "      (dense): Linear(in_features=768, out_features=768, bias=True)\n",
              "      (activation): Tanh()\n",
              "    )\n",
              "  )\n",
              "  (dropout): Dropout(p=0.1, inplace=False)\n",
              "  (classifier): Linear(in_features=768, out_features=6, bias=True)\n",
              ")"
            ]
          },
          "metadata": {},
          "execution_count": 5
        }
      ],
      "execution_count": 5
    },
    {
      "cell_type": "code",
      "metadata": {
        "id": "OlxrufDmxtOL"
      },
      "source": [
        "os.environ[\"WANDB_MODE\"] = \"disabled\""
      ],
      "outputs": [],
      "execution_count": 6
    },
    {
      "cell_type": "code",
      "metadata": {
        "colab": {
          "base_uri": "https://localhost:8080/",
          "height": 267
        },
        "id": "zTSGV6Cvrpap",
        "outputId": "e7282996-5c6c-4aed-ac8a-bbe389bf14c4"
      },
      "source": [
        "# Training arguments\n",
        "training_args = TrainingArguments(\n",
        "    output_dir=\"./results\",\n",
        "    run_name=\"text-classification\",\n",
        "    eval_strategy=\"epoch\",\n",
        "    save_strategy=\"epoch\",\n",
        "    per_device_train_batch_size=16,\n",
        "    per_device_eval_batch_size=16,\n",
        "    num_train_epochs=5,\n",
        "    learning_rate=5e-5,\n",
        "    weight_decay=0.01,\n",
        "    load_best_model_at_end=True,\n",
        "    logging_dir=\"./logs\",\n",
        "    logging_strategy=\"steps\",\n",
        "    logging_steps=50,\n",
        "\n",
        ")\n",
        "\n",
        "# Trainer\n",
        "trainer = Trainer(\n",
        "    model=model,\n",
        "    args=training_args,\n",
        "    train_dataset=train_dataset,\n",
        "    eval_dataset=val_dataset,\n",
        "    data_collator=data_collator\n",
        ")\n",
        "\n",
        "# Train and evaluate\n",
        "trainer.train()"
      ],
      "outputs": [
        {
          "output_type": "display_data",
          "data": {
            "text/plain": [
              "<IPython.core.display.HTML object>"
            ],
            "text/html": [
              "\n",
              "    <div>\n",
              "      \n",
              "      <progress value='560' max='560' style='width:300px; height:20px; vertical-align: middle;'></progress>\n",
              "      [560/560 04:32, Epoch 5/5]\n",
              "    </div>\n",
              "    <table border=\"1\" class=\"dataframe\">\n",
              "  <thead>\n",
              " <tr style=\"text-align: left;\">\n",
              "      <th>Epoch</th>\n",
              "      <th>Training Loss</th>\n",
              "      <th>Validation Loss</th>\n",
              "    </tr>\n",
              "  </thead>\n",
              "  <tbody>\n",
              "    <tr>\n",
              "      <td>1</td>\n",
              "      <td>0.177400</td>\n",
              "      <td>0.132925</td>\n",
              "    </tr>\n",
              "    <tr>\n",
              "      <td>2</td>\n",
              "      <td>0.098900</td>\n",
              "      <td>0.113356</td>\n",
              "    </tr>\n",
              "    <tr>\n",
              "      <td>3</td>\n",
              "      <td>0.085100</td>\n",
              "      <td>0.097549</td>\n",
              "    </tr>\n",
              "    <tr>\n",
              "      <td>4</td>\n",
              "      <td>0.070900</td>\n",
              "      <td>0.087939</td>\n",
              "    </tr>\n",
              "    <tr>\n",
              "      <td>5</td>\n",
              "      <td>0.056100</td>\n",
              "      <td>0.089643</td>\n",
              "    </tr>\n",
              "  </tbody>\n",
              "</table><p>"
            ]
          },
          "metadata": {}
        },
        {
          "output_type": "execute_result",
          "data": {
            "text/plain": [
              "TrainOutput(global_step=560, training_loss=0.112342505050557, metrics={'train_runtime': 274.9081, 'train_samples_per_second': 32.593, 'train_steps_per_second': 2.037, 'total_flos': 589389930823680.0, 'train_loss': 0.112342505050557, 'epoch': 5.0})"
            ]
          },
          "metadata": {},
          "execution_count": 7
        }
      ],
      "execution_count": 7
    },
    {
      "cell_type": "code",
      "metadata": {
        "colab": {
          "base_uri": "https://localhost:8080/"
        },
        "id": "tr8D6JQ2P3fd",
        "outputId": "89fd019e-0732-4bf6-be4f-b5156f6bfe7a"
      },
      "source": [
        "# Save the model and tokenizer\n",
        "model.save_pretrained(\"bert_model\")\n",
        "tokenizer.save_pretrained(\"bert_model\")"
      ],
      "outputs": [
        {
          "output_type": "execute_result",
          "data": {
            "text/plain": [
              "('/content/drive/MyDrive/bert_model/tokenizer_config.json',\n",
              " '/content/drive/MyDrive/bert_model/special_tokens_map.json',\n",
              " '/content/drive/MyDrive/bert_model/vocab.txt',\n",
              " '/content/drive/MyDrive/bert_model/added_tokens.json')"
            ]
          },
          "metadata": {},
          "execution_count": 8
        }
      ],
      "execution_count": 8
    },
    {
      "cell_type": "code",
      "metadata": {
        "id": "vqJKB1QfOQVW",
        "colab": {
          "base_uri": "https://localhost:8080/"
        },
        "outputId": "48f97a06-be6a-449e-9624-8c1e268cb495"
      },
      "source": [
        "mlb_classes = ['Chief Officer', 'Director', 'Individual Contributor/Staff', 'Manager', 'Owner', 'Vice President']\n",
        "\n",
        "def predict_labels_with_threshold(job_titles, threshold):\n",
        "\n",
        "    predictions = []\n",
        "    for title in job_titles:\n",
        "        # Tokenize the input title\n",
        "        inputs = tokenizer(title, padding=\"max_length\", truncation=True, max_length=128, return_tensors=\"pt\")\n",
        "        inputs = inputs.to(device)  # Move inputs to the same device as the model\n",
        "\n",
        "        # Perform inference\n",
        "        with torch.no_grad():\n",
        "            outputs = model(**inputs)\n",
        "\n",
        "        # Apply sigmoid to get probabilities\n",
        "        probs = torch.sigmoid(outputs.logits).squeeze().tolist()\n",
        "\n",
        "        # Convert probabilities to binary predictions using the threshold\n",
        "        binary_predictions = [1 if prob > threshold else 0 for prob in probs]\n",
        "        predictions.append(binary_predictions)\n",
        "\n",
        "    return np.array(predictions)\n",
        "\n",
        "def find_best_threshold(job_titles, y_true, thresholds=np.arange(0.15, 0.95, 0.1)):\n",
        "\n",
        "    best_threshold = 0.0\n",
        "    best_metric = (-float(\"inf\"), 0, 0)  # Prioritize F1 score, then accuracy\n",
        "    results = []\n",
        "\n",
        "    for threshold in tqdm(thresholds):\n",
        "        y_pred = predict_labels_with_threshold(job_titles, threshold)\n",
        "\n",
        "        # Calculate metrics\n",
        "        f1 = f1_score(y_true, y_pred, average=\"macro\", zero_division=1)\n",
        "        accuracy = accuracy_score(y_true, y_pred)\n",
        "\n",
        "        # Custom metric prioritization (F1 first, then accuracy)\n",
        "        metric = (f1, accuracy)\n",
        "\n",
        "        # Append results for logging\n",
        "        results.append((threshold, f1, accuracy))\n",
        "\n",
        "        # Update best threshold if metrics improve\n",
        "        if metric > best_metric:\n",
        "            best_metric = metric\n",
        "            best_threshold = threshold\n",
        "\n",
        "    return best_threshold\n",
        "\n",
        "# Evaluate thresholds\n",
        "best_threshold_for_BERT = find_best_threshold(val_texts, val_labels)"
      ],
      "outputs": [
        {
          "output_type": "stream",
          "name": "stderr",
          "text": [
            "100%|██████████| 8/8 [00:38<00:00,  4.79s/it]\n"
          ]
        }
      ],
      "execution_count": 10
    },
    {
      "cell_type": "code",
      "metadata": {
        "colab": {
          "base_uri": "https://localhost:8080/"
        },
        "id": "4SZytcxJkYdr",
        "outputId": "00d14fd6-d1ef-41c7-8e73-33fdd2356575"
      },
      "source": [
        "def evaluate_with_best_threshold(job_titles, y_true, best_threshold):\n",
        "\n",
        "    # Predict labels with the best threshold\n",
        "    y_pred = predict_labels_with_threshold(job_titles, best_threshold)\n",
        "\n",
        "    # Calculate metrics\n",
        "    precision = precision_score(y_true, y_pred, average=\"macro\", zero_division=1)\n",
        "    recall = recall_score(y_true, y_pred, average=\"macro\", zero_division=1)\n",
        "    f1 = f1_score(y_true, y_pred, average=\"macro\", zero_division=1)\n",
        "    accuracy = accuracy_score(y_true, y_pred)\n",
        "\n",
        "    return {\n",
        "        \"precision\": precision,\n",
        "        \"recall\": recall,\n",
        "        \"f1_score\": f1,\n",
        "        \"accuracy\": accuracy\n",
        "    }\n",
        "\n",
        "\n",
        "# Calculate metrics with the best threshold\n",
        "final_metrics = evaluate_with_best_threshold(val_texts, val_labels, best_threshold_for_BERT)\n",
        "\n",
        "print(f\"Best Threshold: {best_threshold_for_BERT:.2f}\")\n",
        "print(\"Final Evaluation Metrics:\")\n",
        "print(f\"Precision: {final_metrics['precision']:.4f}\")\n",
        "print(f\"Recall: {final_metrics['recall']:.4f}\")\n",
        "print(f\"F1 Score: {final_metrics['f1_score']:.4f}\")\n",
        "print(f\"Accuracy: {final_metrics['accuracy']:.4f}\")"
      ],
      "outputs": [
        {
          "output_type": "stream",
          "name": "stdout",
          "text": [
            "Best Threshold: 0.45\n",
            "Final Evaluation Metrics:\n",
            "Precision: 0.8987\n",
            "Recall: 0.8864\n",
            "F1 Score: 0.8916\n",
            "Accuracy: 0.8884\n"
          ]
        }
      ],
      "execution_count": 12
    },
    {
      "cell_type": "markdown",
      "metadata": {
        "id": "FucaCD8Nn7Zy"
      },
      "source": [
        "**Method 2 CatBoost Algorithm**\n",
        "\n",
        "CatBoost is an excellent second choice for this task due to its ability to handle categorical data natively and its robustness with small- to medium-sized datasets."
      ]
    },
    {
      "cell_type": "code",
      "metadata": {
        "colab": {
          "base_uri": "https://localhost:8080/",
          "height": 206
        },
        "id": "xYCxK4iaP3fe",
        "outputId": "3aa8c24e-63a4-4f51-c213-20124a1dc887",
        "ExecuteTime": {
          "end_time": "2025-01-26T08:16:26.291022Z",
          "start_time": "2025-01-26T08:16:26.253392Z"
        }
      },
      "source": [
        "data = pd.read_excel(\"path/to/dataset\")\n",
        "data.head()"
      ],
      "outputs": [
        {
          "output_type": "execute_result",
          "data": {
            "text/plain": [
              "                                               Title        Column 1  \\\n",
              "0   Vice President / Director of Systems Engineering  Vice President   \n",
              "1                Systems Engineer; Systems Architect         Manager   \n",
              "2  Executive Director, Global IT Infrastructure /...        Director   \n",
              "3      CTO/Executive Director of Technology Services        Director   \n",
              "4                                Vice President, CIO  Vice President   \n",
              "\n",
              "                       Column 2 Column 3 Column 4  \n",
              "0                           NaN      NaN      NaN  \n",
              "1  Individual Contributor/Staff      NaN      NaN  \n",
              "2                 Chief Officer      NaN      NaN  \n",
              "3                 Chief Officer      NaN      NaN  \n",
              "4                           NaN      NaN      NaN  "
            ],
            "text/html": [
              "\n",
              "  <div id=\"df-97d17df2-66d6-49ec-a5ff-431f0d189d7a\" class=\"colab-df-container\">\n",
              "    <div>\n",
              "<style scoped>\n",
              "    .dataframe tbody tr th:only-of-type {\n",
              "        vertical-align: middle;\n",
              "    }\n",
              "\n",
              "    .dataframe tbody tr th {\n",
              "        vertical-align: top;\n",
              "    }\n",
              "\n",
              "    .dataframe thead th {\n",
              "        text-align: right;\n",
              "    }\n",
              "</style>\n",
              "<table border=\"1\" class=\"dataframe\">\n",
              "  <thead>\n",
              "    <tr style=\"text-align: right;\">\n",
              "      <th></th>\n",
              "      <th>Title</th>\n",
              "      <th>Column 1</th>\n",
              "      <th>Column 2</th>\n",
              "      <th>Column 3</th>\n",
              "      <th>Column 4</th>\n",
              "    </tr>\n",
              "  </thead>\n",
              "  <tbody>\n",
              "    <tr>\n",
              "      <th>0</th>\n",
              "      <td>Vice President / Director of Systems Engineering</td>\n",
              "      <td>Vice President</td>\n",
              "      <td>NaN</td>\n",
              "      <td>NaN</td>\n",
              "      <td>NaN</td>\n",
              "    </tr>\n",
              "    <tr>\n",
              "      <th>1</th>\n",
              "      <td>Systems Engineer; Systems Architect</td>\n",
              "      <td>Manager</td>\n",
              "      <td>Individual Contributor/Staff</td>\n",
              "      <td>NaN</td>\n",
              "      <td>NaN</td>\n",
              "    </tr>\n",
              "    <tr>\n",
              "      <th>2</th>\n",
              "      <td>Executive Director, Global IT Infrastructure /...</td>\n",
              "      <td>Director</td>\n",
              "      <td>Chief Officer</td>\n",
              "      <td>NaN</td>\n",
              "      <td>NaN</td>\n",
              "    </tr>\n",
              "    <tr>\n",
              "      <th>3</th>\n",
              "      <td>CTO/Executive Director of Technology Services</td>\n",
              "      <td>Director</td>\n",
              "      <td>Chief Officer</td>\n",
              "      <td>NaN</td>\n",
              "      <td>NaN</td>\n",
              "    </tr>\n",
              "    <tr>\n",
              "      <th>4</th>\n",
              "      <td>Vice President, CIO</td>\n",
              "      <td>Vice President</td>\n",
              "      <td>NaN</td>\n",
              "      <td>NaN</td>\n",
              "      <td>NaN</td>\n",
              "    </tr>\n",
              "  </tbody>\n",
              "</table>\n",
              "</div>\n",
              "    <div class=\"colab-df-buttons\">\n",
              "\n",
              "  <div class=\"colab-df-container\">\n",
              "    <button class=\"colab-df-convert\" onclick=\"convertToInteractive('df-97d17df2-66d6-49ec-a5ff-431f0d189d7a')\"\n",
              "            title=\"Convert this dataframe to an interactive table.\"\n",
              "            style=\"display:none;\">\n",
              "\n",
              "  <svg xmlns=\"http://www.w3.org/2000/svg\" height=\"24px\" viewBox=\"0 -960 960 960\">\n",
              "    <path d=\"M120-120v-720h720v720H120Zm60-500h600v-160H180v160Zm220 220h160v-160H400v160Zm0 220h160v-160H400v160ZM180-400h160v-160H180v160Zm440 0h160v-160H620v160ZM180-180h160v-160H180v160Zm440 0h160v-160H620v160Z\"/>\n",
              "  </svg>\n",
              "    </button>\n",
              "\n",
              "  <style>\n",
              "    .colab-df-container {\n",
              "      display:flex;\n",
              "      gap: 12px;\n",
              "    }\n",
              "\n",
              "    .colab-df-convert {\n",
              "      background-color: #E8F0FE;\n",
              "      border: none;\n",
              "      border-radius: 50%;\n",
              "      cursor: pointer;\n",
              "      display: none;\n",
              "      fill: #1967D2;\n",
              "      height: 32px;\n",
              "      padding: 0 0 0 0;\n",
              "      width: 32px;\n",
              "    }\n",
              "\n",
              "    .colab-df-convert:hover {\n",
              "      background-color: #E2EBFA;\n",
              "      box-shadow: 0px 1px 2px rgba(60, 64, 67, 0.3), 0px 1px 3px 1px rgba(60, 64, 67, 0.15);\n",
              "      fill: #174EA6;\n",
              "    }\n",
              "\n",
              "    .colab-df-buttons div {\n",
              "      margin-bottom: 4px;\n",
              "    }\n",
              "\n",
              "    [theme=dark] .colab-df-convert {\n",
              "      background-color: #3B4455;\n",
              "      fill: #D2E3FC;\n",
              "    }\n",
              "\n",
              "    [theme=dark] .colab-df-convert:hover {\n",
              "      background-color: #434B5C;\n",
              "      box-shadow: 0px 1px 3px 1px rgba(0, 0, 0, 0.15);\n",
              "      filter: drop-shadow(0px 1px 2px rgba(0, 0, 0, 0.3));\n",
              "      fill: #FFFFFF;\n",
              "    }\n",
              "  </style>\n",
              "\n",
              "    <script>\n",
              "      const buttonEl =\n",
              "        document.querySelector('#df-97d17df2-66d6-49ec-a5ff-431f0d189d7a button.colab-df-convert');\n",
              "      buttonEl.style.display =\n",
              "        google.colab.kernel.accessAllowed ? 'block' : 'none';\n",
              "\n",
              "      async function convertToInteractive(key) {\n",
              "        const element = document.querySelector('#df-97d17df2-66d6-49ec-a5ff-431f0d189d7a');\n",
              "        const dataTable =\n",
              "          await google.colab.kernel.invokeFunction('convertToInteractive',\n",
              "                                                    [key], {});\n",
              "        if (!dataTable) return;\n",
              "\n",
              "        const docLinkHtml = 'Like what you see? Visit the ' +\n",
              "          '<a target=\"_blank\" href=https://colab.research.google.com/notebooks/data_table.ipynb>data table notebook</a>'\n",
              "          + ' to learn more about interactive tables.';\n",
              "        element.innerHTML = '';\n",
              "        dataTable['output_type'] = 'display_data';\n",
              "        await google.colab.output.renderOutput(dataTable, element);\n",
              "        const docLink = document.createElement('div');\n",
              "        docLink.innerHTML = docLinkHtml;\n",
              "        element.appendChild(docLink);\n",
              "      }\n",
              "    </script>\n",
              "  </div>\n",
              "\n",
              "\n",
              "<div id=\"df-dab8869c-2754-4de1-8def-1521b9ee351f\">\n",
              "  <button class=\"colab-df-quickchart\" onclick=\"quickchart('df-dab8869c-2754-4de1-8def-1521b9ee351f')\"\n",
              "            title=\"Suggest charts\"\n",
              "            style=\"display:none;\">\n",
              "\n",
              "<svg xmlns=\"http://www.w3.org/2000/svg\" height=\"24px\"viewBox=\"0 0 24 24\"\n",
              "     width=\"24px\">\n",
              "    <g>\n",
              "        <path d=\"M19 3H5c-1.1 0-2 .9-2 2v14c0 1.1.9 2 2 2h14c1.1 0 2-.9 2-2V5c0-1.1-.9-2-2-2zM9 17H7v-7h2v7zm4 0h-2V7h2v10zm4 0h-2v-4h2v4z\"/>\n",
              "    </g>\n",
              "</svg>\n",
              "  </button>\n",
              "\n",
              "<style>\n",
              "  .colab-df-quickchart {\n",
              "      --bg-color: #E8F0FE;\n",
              "      --fill-color: #1967D2;\n",
              "      --hover-bg-color: #E2EBFA;\n",
              "      --hover-fill-color: #174EA6;\n",
              "      --disabled-fill-color: #AAA;\n",
              "      --disabled-bg-color: #DDD;\n",
              "  }\n",
              "\n",
              "  [theme=dark] .colab-df-quickchart {\n",
              "      --bg-color: #3B4455;\n",
              "      --fill-color: #D2E3FC;\n",
              "      --hover-bg-color: #434B5C;\n",
              "      --hover-fill-color: #FFFFFF;\n",
              "      --disabled-bg-color: #3B4455;\n",
              "      --disabled-fill-color: #666;\n",
              "  }\n",
              "\n",
              "  .colab-df-quickchart {\n",
              "    background-color: var(--bg-color);\n",
              "    border: none;\n",
              "    border-radius: 50%;\n",
              "    cursor: pointer;\n",
              "    display: none;\n",
              "    fill: var(--fill-color);\n",
              "    height: 32px;\n",
              "    padding: 0;\n",
              "    width: 32px;\n",
              "  }\n",
              "\n",
              "  .colab-df-quickchart:hover {\n",
              "    background-color: var(--hover-bg-color);\n",
              "    box-shadow: 0 1px 2px rgba(60, 64, 67, 0.3), 0 1px 3px 1px rgba(60, 64, 67, 0.15);\n",
              "    fill: var(--button-hover-fill-color);\n",
              "  }\n",
              "\n",
              "  .colab-df-quickchart-complete:disabled,\n",
              "  .colab-df-quickchart-complete:disabled:hover {\n",
              "    background-color: var(--disabled-bg-color);\n",
              "    fill: var(--disabled-fill-color);\n",
              "    box-shadow: none;\n",
              "  }\n",
              "\n",
              "  .colab-df-spinner {\n",
              "    border: 2px solid var(--fill-color);\n",
              "    border-color: transparent;\n",
              "    border-bottom-color: var(--fill-color);\n",
              "    animation:\n",
              "      spin 1s steps(1) infinite;\n",
              "  }\n",
              "\n",
              "  @keyframes spin {\n",
              "    0% {\n",
              "      border-color: transparent;\n",
              "      border-bottom-color: var(--fill-color);\n",
              "      border-left-color: var(--fill-color);\n",
              "    }\n",
              "    20% {\n",
              "      border-color: transparent;\n",
              "      border-left-color: var(--fill-color);\n",
              "      border-top-color: var(--fill-color);\n",
              "    }\n",
              "    30% {\n",
              "      border-color: transparent;\n",
              "      border-left-color: var(--fill-color);\n",
              "      border-top-color: var(--fill-color);\n",
              "      border-right-color: var(--fill-color);\n",
              "    }\n",
              "    40% {\n",
              "      border-color: transparent;\n",
              "      border-right-color: var(--fill-color);\n",
              "      border-top-color: var(--fill-color);\n",
              "    }\n",
              "    60% {\n",
              "      border-color: transparent;\n",
              "      border-right-color: var(--fill-color);\n",
              "    }\n",
              "    80% {\n",
              "      border-color: transparent;\n",
              "      border-right-color: var(--fill-color);\n",
              "      border-bottom-color: var(--fill-color);\n",
              "    }\n",
              "    90% {\n",
              "      border-color: transparent;\n",
              "      border-bottom-color: var(--fill-color);\n",
              "    }\n",
              "  }\n",
              "</style>\n",
              "\n",
              "  <script>\n",
              "    async function quickchart(key) {\n",
              "      const quickchartButtonEl =\n",
              "        document.querySelector('#' + key + ' button');\n",
              "      quickchartButtonEl.disabled = true;  // To prevent multiple clicks.\n",
              "      quickchartButtonEl.classList.add('colab-df-spinner');\n",
              "      try {\n",
              "        const charts = await google.colab.kernel.invokeFunction(\n",
              "            'suggestCharts', [key], {});\n",
              "      } catch (error) {\n",
              "        console.error('Error during call to suggestCharts:', error);\n",
              "      }\n",
              "      quickchartButtonEl.classList.remove('colab-df-spinner');\n",
              "      quickchartButtonEl.classList.add('colab-df-quickchart-complete');\n",
              "    }\n",
              "    (() => {\n",
              "      let quickchartButtonEl =\n",
              "        document.querySelector('#df-dab8869c-2754-4de1-8def-1521b9ee351f button');\n",
              "      quickchartButtonEl.style.display =\n",
              "        google.colab.kernel.accessAllowed ? 'block' : 'none';\n",
              "    })();\n",
              "  </script>\n",
              "</div>\n",
              "\n",
              "    </div>\n",
              "  </div>\n"
            ],
            "application/vnd.google.colaboratory.intrinsic+json": {
              "type": "dataframe",
              "variable_name": "data",
              "summary": "{\n  \"name\": \"data\",\n  \"rows\": 2240,\n  \"fields\": [\n    {\n      \"column\": \"Title\",\n      \"properties\": {\n        \"dtype\": \"string\",\n        \"num_unique_values\": 2240,\n        \"samples\": [\n          \"Information Technology Business Analyst III\",\n          \"NOC Administrator\",\n          \"Technical Director Letsee / Media Center\"\n        ],\n        \"semantic_type\": \"\",\n        \"description\": \"\"\n      }\n    },\n    {\n      \"column\": \"Column 1\",\n      \"properties\": {\n        \"dtype\": \"category\",\n        \"num_unique_values\": 6,\n        \"samples\": [\n          \"Vice President\",\n          \"Manager\",\n          \"Individual Contributor/Staff\"\n        ],\n        \"semantic_type\": \"\",\n        \"description\": \"\"\n      }\n    },\n    {\n      \"column\": \"Column 2\",\n      \"properties\": {\n        \"dtype\": \"category\",\n        \"num_unique_values\": 4,\n        \"samples\": [\n          \"Chief Officer\",\n          \"Director\",\n          \"Individual Contributor/Staff\"\n        ],\n        \"semantic_type\": \"\",\n        \"description\": \"\"\n      }\n    },\n    {\n      \"column\": \"Column 3\",\n      \"properties\": {\n        \"dtype\": \"category\",\n        \"num_unique_values\": 2,\n        \"samples\": [\n          \"Director\",\n          \"Individual Contributor/Staff\"\n        ],\n        \"semantic_type\": \"\",\n        \"description\": \"\"\n      }\n    },\n    {\n      \"column\": \"Column 4\",\n      \"properties\": {\n        \"dtype\": \"category\",\n        \"num_unique_values\": 1,\n        \"samples\": [\n          \"Director\"\n        ],\n        \"semantic_type\": \"\",\n        \"description\": \"\"\n      }\n    }\n  ]\n}"
            }
          },
          "metadata": {},
          "execution_count": 13
        }
      ],
      "execution_count": 13
    },
    {
      "cell_type": "code",
      "metadata": {
        "id": "z_mwNop9P3fe",
        "ExecuteTime": {
          "end_time": "2025-01-26T08:16:29.930497Z",
          "start_time": "2025-01-26T08:16:29.923033Z"
        }
      },
      "source": [
        "# Step 1: Data Preprocessing\n",
        "# Filling missing values in the dataset with an empty string to ensure consistent handling of missing data\n",
        "data = data.drop([\"Column 3\", \"Column 4\"], axis=1)\n",
        "data.fillna(\"\", inplace=True)\n",
        "\n",
        "# Combining labels from Columns 1 and 2 into a single list for each job title\n",
        "# Only non-empty labels are included in the list\n",
        "data[\"labels\"] = data[[\"Column 1\", \"Column 2\"]].apply(\n",
        "    lambda x: [label for label in x if label], axis=1\n",
        ")\n",
        "\n",
        "# Applying MultiLabelBinarizer to transform labels into a binary format\n",
        "# This allows the model to process multi-label classification effectively\n",
        "mlb = MultiLabelBinarizer()\n",
        "labels = mlb.fit_transform(data[\"labels\"])"
      ],
      "outputs": [],
      "execution_count": 14
    },
    {
      "cell_type": "code",
      "metadata": {
        "id": "kmJEmqIQofpc",
        "ExecuteTime": {
          "end_time": "2025-01-26T08:16:35.431134Z",
          "start_time": "2025-01-26T08:16:35.414575Z"
        }
      },
      "source": [
        "# Preprocess the \"Title\" column\n",
        "def preprocess_text(text):\n",
        "    # Lowercase the text and remove unnecessary characters\n",
        "    return text.lower()\n",
        "\n",
        "data['Title'] = data['Title'].apply(preprocess_text)\n",
        "\n",
        "# Convert \"Title\" to numeric features using TfidfVectorizer\n",
        "tfidf = TfidfVectorizer(max_features=500)\n",
        "X_features = tfidf.fit_transform(data['Title']).toarray()\n",
        "\n",
        "# Split data into train and test sets\n",
        "X_train, X_test, y_train, y_test = train_test_split(X_features, labels, test_size=0.2, random_state=42)"
      ],
      "outputs": [],
      "execution_count": 15
    },
    {
      "cell_type": "code",
      "metadata": {
        "colab": {
          "base_uri": "https://localhost:8080/"
        },
        "id": "qPXIS5B7ofrk",
        "outputId": "d734b05d-753a-4339-f27d-b8c4aefa4f7f",
        "ExecuteTime": {
          "end_time": "2025-01-26T08:16:53.148001Z",
          "start_time": "2025-01-26T08:16:43.076319Z"
        }
      },
      "source": [
        "# Initialize the CatBoostClassifier for multi-label classification\n",
        "cat_boost_model = CatBoostClassifier(\n",
        "    iterations=1000,\n",
        "    depth=7,\n",
        "    learning_rate=0.1,\n",
        "    loss_function='MultiLogloss',\n",
        "    task_type=\"CPU\",\n",
        "    random_seed=42\n",
        ")\n",
        "\n",
        "# Train the model\n",
        "cat_boost_model.fit(X_train, y_train, verbose=50)"
      ],
      "outputs": [
        {
          "output_type": "stream",
          "name": "stdout",
          "text": [
            "0:\tlearn: 0.5705754\ttotal: 120ms\tremaining: 1m 59s\n",
            "50:\tlearn: 0.1052762\ttotal: 2.98s\tremaining: 55.5s\n",
            "100:\tlearn: 0.0781984\ttotal: 5.81s\tremaining: 51.7s\n",
            "150:\tlearn: 0.0605114\ttotal: 10.5s\tremaining: 59s\n",
            "200:\tlearn: 0.0490007\ttotal: 13.4s\tremaining: 53.3s\n",
            "250:\tlearn: 0.0413707\ttotal: 16.7s\tremaining: 49.8s\n",
            "300:\tlearn: 0.0356684\ttotal: 22s\tremaining: 51.1s\n",
            "350:\tlearn: 0.0307531\ttotal: 28.9s\tremaining: 53.5s\n",
            "400:\tlearn: 0.0269861\ttotal: 35.5s\tremaining: 53s\n",
            "450:\tlearn: 0.0239796\ttotal: 42.5s\tremaining: 51.8s\n",
            "500:\tlearn: 0.0211418\ttotal: 45.3s\tremaining: 45.1s\n",
            "550:\tlearn: 0.0192651\ttotal: 48.1s\tremaining: 39.2s\n",
            "600:\tlearn: 0.0175686\ttotal: 51.4s\tremaining: 34.1s\n",
            "650:\tlearn: 0.0161018\ttotal: 55.6s\tremaining: 29.8s\n",
            "700:\tlearn: 0.0148935\ttotal: 58.4s\tremaining: 24.9s\n",
            "750:\tlearn: 0.0136644\ttotal: 1m 1s\tremaining: 20.3s\n",
            "800:\tlearn: 0.0128037\ttotal: 1m 3s\tremaining: 15.9s\n",
            "850:\tlearn: 0.0119094\ttotal: 1m 8s\tremaining: 12s\n",
            "900:\tlearn: 0.0111397\ttotal: 1m 11s\tremaining: 7.86s\n",
            "950:\tlearn: 0.0104717\ttotal: 1m 14s\tremaining: 3.83s\n",
            "999:\tlearn: 0.0099389\ttotal: 1m 17s\tremaining: 0us\n"
          ]
        },
        {
          "output_type": "execute_result",
          "data": {
            "text/plain": [
              "<catboost.core.CatBoostClassifier at 0x7faa141345d0>"
            ]
          },
          "metadata": {},
          "execution_count": 16
        }
      ],
      "execution_count": 16
    },
    {
      "cell_type": "code",
      "metadata": {
        "colab": {
          "base_uri": "https://localhost:8080/"
        },
        "id": "Ac3SGkRBofua",
        "outputId": "46a781ff-f22d-410f-e4b7-1ba7972ebc03",
        "ExecuteTime": {
          "end_time": "2025-01-26T08:16:57.909976Z",
          "start_time": "2025-01-26T08:16:57.577549Z"
        }
      },
      "source": [
        "cat_boost_model.save_model(\"cat_boost_model/catboost_model.cbm\")\n",
        "joblib.dump(tfidf, \"cat_boost_model/tfidf_vectorizer.pkl\")"
      ],
      "outputs": [
        {
          "output_type": "execute_result",
          "data": {
            "text/plain": [
              "['/content/drive/MyDrive/cat_boost_model/tfidf_vectorizer.pkl']"
            ]
          },
          "metadata": {},
          "execution_count": 17
        }
      ],
      "execution_count": 17
    },
    {
      "cell_type": "code",
      "metadata": {
        "id": "I7Rj2YEOq3sG",
        "ExecuteTime": {
          "end_time": "2025-01-26T08:17:00.777919Z",
          "start_time": "2025-01-26T08:16:58.787991Z"
        }
      },
      "source": [
        "def predict_labels_with_threshold(job_titles, threshold):\n",
        "\n",
        "    # Perform inference\n",
        "    probs = cat_boost_model.predict_proba(job_titles)\n",
        "\n",
        "    # Convert probabilities to binary predictions using the threshold\n",
        "    binary_predictions = (probs > threshold).astype(int)\n",
        "\n",
        "    return binary_predictions\n",
        "\n",
        "def find_best_threshold(job_titles, y_true, thresholds=np.arange(0.25, 0.95, 0.01)):\n",
        "\n",
        "    best_threshold = 0.0\n",
        "    best_metric = (-float(\"inf\"), 0, 0)  # Prioritize F1 score, then accuracy\n",
        "    results = []\n",
        "\n",
        "    for threshold in thresholds:\n",
        "        y_pred = predict_labels_with_threshold(job_titles, threshold)\n",
        "\n",
        "        # Calculate metrics\n",
        "        f1 = f1_score(y_true, y_pred, average=\"macro\", zero_division=1)\n",
        "        accuracy = accuracy_score(y_true, y_pred)\n",
        "\n",
        "        # Custom metric prioritization (F1 first, then accuracy)\n",
        "        metric = (f1, accuracy)\n",
        "\n",
        "        # Append results for logging\n",
        "        results.append((threshold, f1, accuracy))\n",
        "\n",
        "        # Update best threshold if metrics improve\n",
        "        if metric > best_metric:\n",
        "            best_metric = metric\n",
        "            best_threshold = threshold\n",
        "\n",
        "    return best_threshold\n",
        "\n",
        "# Evaluate thresholds\n",
        "best_threshold_for_catboost = find_best_threshold(X_test, y_test)"
      ],
      "outputs": [],
      "execution_count": 18
    },
    {
      "cell_type": "code",
      "metadata": {
        "colab": {
          "base_uri": "https://localhost:8080/"
        },
        "id": "g1U4eQMOrBOc",
        "outputId": "8979fe46-8868-41d3-860e-071fc0109266",
        "ExecuteTime": {
          "end_time": "2025-01-26T08:17:03.632133Z",
          "start_time": "2025-01-26T08:17:03.599547Z"
        }
      },
      "source": [
        "def evaluate_with_best_threshold(job_titles, y_true, best_threshold_for_catboost):\n",
        "\n",
        "    # Predict labels with the best threshold\n",
        "    y_pred = predict_labels_with_threshold(job_titles, best_threshold_for_catboost)\n",
        "\n",
        "    # Calculate metrics\n",
        "    precision = precision_score(y_true, y_pred, average=\"macro\", zero_division=1)\n",
        "    recall = recall_score(y_true, y_pred, average=\"macro\", zero_division=1)\n",
        "    f1 = f1_score(y_true, y_pred, average=\"macro\", zero_division=1)\n",
        "    accuracy = accuracy_score(y_true, y_pred)\n",
        "\n",
        "    return {\n",
        "        \"precision\": precision,\n",
        "        \"recall\": recall,\n",
        "        \"f1_score\": f1,\n",
        "        \"accuracy\": accuracy\n",
        "    }\n",
        "\n",
        "# Calculate metrics with the best threshold\n",
        "final_metrics = evaluate_with_best_threshold(X_test, y_test, best_threshold_for_catboost)\n",
        "\n",
        "print(f\"Best Threshold: {best_threshold_for_catboost:.2f}\")\n",
        "print(\"Final Evaluation Metrics:\")\n",
        "print(f\"Precision: {final_metrics['precision']:.4f}\")\n",
        "print(f\"Recall: {final_metrics['recall']:.4f}\")\n",
        "print(f\"F1 Score: {final_metrics['f1_score']:.4f}\")\n",
        "print(f\"Accuracy: {final_metrics['accuracy']:.4f}\")\n"
      ],
      "outputs": [
        {
          "output_type": "stream",
          "name": "stdout",
          "text": [
            "Best Threshold: 0.40\n",
            "Final Evaluation Metrics:\n",
            "Precision: 0.8902\n",
            "Recall: 0.8467\n",
            "F1 Score: 0.8656\n",
            "Accuracy: 0.8571\n"
          ]
        }
      ],
      "execution_count": 19
    },
    {
      "cell_type": "markdown",
      "metadata": {
        "id": "1mM5xLqgP3fh"
      },
      "source": [
        "#INFERENCE"
      ]
    },
    {
      "cell_type": "code",
      "metadata": {
        "colab": {
          "base_uri": "https://localhost:8080/"
        },
        "id": "GTIpZFiQP3fh",
        "outputId": "aa95f670-5cc3-4770-ce21-567e62545db8",
        "ExecuteTime": {
          "end_time": "2025-01-26T08:17:13.696897Z",
          "start_time": "2025-01-26T08:17:13.680781Z"
        }
      },
      "source": [
        "# Load models\n",
        "catboost_model = CatBoostClassifier()\n",
        "catboost_model.load_model(\"cat_boost_model/catboost_model.cbm\")\n",
        "tfidf = joblib.load(\"cat_boost_model/tfidf_vectorizer.pkl\")\n",
        "\n",
        "\n",
        "device = torch.device(\"cuda\" if torch.cuda.is_available() else \"cpu\")\n",
        "model_path = \"bert_model\"\n",
        "tokenizer = BertTokenizer.from_pretrained(model_path)\n",
        "model = BertForSequenceClassification.from_pretrained(model_path)\n",
        "model = model.to(device)\n",
        "model.eval()"
      ],
      "outputs": [
        {
          "output_type": "execute_result",
          "data": {
            "text/plain": [
              "BertForSequenceClassification(\n",
              "  (bert): BertModel(\n",
              "    (embeddings): BertEmbeddings(\n",
              "      (word_embeddings): Embedding(30522, 768, padding_idx=0)\n",
              "      (position_embeddings): Embedding(512, 768)\n",
              "      (token_type_embeddings): Embedding(2, 768)\n",
              "      (LayerNorm): LayerNorm((768,), eps=1e-12, elementwise_affine=True)\n",
              "      (dropout): Dropout(p=0.1, inplace=False)\n",
              "    )\n",
              "    (encoder): BertEncoder(\n",
              "      (layer): ModuleList(\n",
              "        (0-11): 12 x BertLayer(\n",
              "          (attention): BertAttention(\n",
              "            (self): BertSdpaSelfAttention(\n",
              "              (query): Linear(in_features=768, out_features=768, bias=True)\n",
              "              (key): Linear(in_features=768, out_features=768, bias=True)\n",
              "              (value): Linear(in_features=768, out_features=768, bias=True)\n",
              "              (dropout): Dropout(p=0.1, inplace=False)\n",
              "            )\n",
              "            (output): BertSelfOutput(\n",
              "              (dense): Linear(in_features=768, out_features=768, bias=True)\n",
              "              (LayerNorm): LayerNorm((768,), eps=1e-12, elementwise_affine=True)\n",
              "              (dropout): Dropout(p=0.1, inplace=False)\n",
              "            )\n",
              "          )\n",
              "          (intermediate): BertIntermediate(\n",
              "            (dense): Linear(in_features=768, out_features=3072, bias=True)\n",
              "            (intermediate_act_fn): GELUActivation()\n",
              "          )\n",
              "          (output): BertOutput(\n",
              "            (dense): Linear(in_features=3072, out_features=768, bias=True)\n",
              "            (LayerNorm): LayerNorm((768,), eps=1e-12, elementwise_affine=True)\n",
              "            (dropout): Dropout(p=0.1, inplace=False)\n",
              "          )\n",
              "        )\n",
              "      )\n",
              "    )\n",
              "    (pooler): BertPooler(\n",
              "      (dense): Linear(in_features=768, out_features=768, bias=True)\n",
              "      (activation): Tanh()\n",
              "    )\n",
              "  )\n",
              "  (dropout): Dropout(p=0.1, inplace=False)\n",
              "  (classifier): Linear(in_features=768, out_features=6, bias=True)\n",
              ")"
            ]
          },
          "metadata": {},
          "execution_count": 7
        }
      ],
      "execution_count": 7
    },
    {
      "metadata": {
        "ExecuteTime": {
          "end_time": "2025-01-26T08:18:17.167452Z",
          "start_time": "2025-01-26T08:18:17.165824Z"
        },
        "id": "lHv3jLHWsiAJ"
      },
      "cell_type": "code",
      "source": [
        "mlb_classes = ['Chief Officer', 'Director', 'Individual Contributor/Staff', 'Manager', 'Owner', 'Vice President']"
      ],
      "outputs": [],
      "execution_count": 8
    },
    {
      "cell_type": "code",
      "metadata": {
        "id": "y_PChbkjrBTn",
        "ExecuteTime": {
          "end_time": "2025-01-26T08:18:17.904462Z",
          "start_time": "2025-01-26T08:18:17.902406Z"
        }
      },
      "source": [
        "best_threshold_for_BERT = 0.45\n",
        "\n",
        "def classify_with_bert(job_title, threshold):\n",
        "\n",
        "    # Tokenize the input title\n",
        "    inputs = tokenizer(job_title, padding=\"max_length\", truncation=True, max_length=128, return_tensors=\"pt\")\n",
        "    inputs = inputs.to(device)  # Move inputs to the same device as the model\n",
        "    # Perform inference\n",
        "    with torch.no_grad():\n",
        "        outputs = model(**inputs)\n",
        "\n",
        "    # Apply sigmoid to get probabilities\n",
        "    probs = torch.sigmoid(outputs.logits).squeeze().tolist()\n",
        "\n",
        "    # Convert probabilities to binary predictions using the threshold\n",
        "    binary_predictions = [mlb_classes[i] for i, prob in enumerate(probs) if prob > threshold]\n",
        "\n",
        "    return binary_predictions"
      ],
      "outputs": [],
      "execution_count": 9
    },
    {
      "cell_type": "code",
      "metadata": {
        "id": "MmIXPWuCWkhu",
        "ExecuteTime": {
          "end_time": "2025-01-26T08:18:18.454122Z",
          "start_time": "2025-01-26T08:18:18.452377Z"
        }
      },
      "source": [
        "best_threshold_for_catboost = 0.4\n",
        "\n",
        "def classify_with_catboost(job_title, threshold):\n",
        "\n",
        "    # Convert the single job title to features using the same TfidfVectorizer\n",
        "    features = tfidf.transform([job_title]).toarray()\n",
        "\n",
        "    # Perform inference\n",
        "    probs = catboost_model.predict_proba(features)\n",
        "\n",
        "    # Get the predicted binary labels based on the threshold\n",
        "    binary_predictions = (probs > threshold).astype(int)\n",
        "\n",
        "    # Map the binary predictions back to the corresponding labels\n",
        "    predicted_labels = [mlb_classes[i] for i, val in enumerate(binary_predictions[0]) if val == 1]\n",
        "\n",
        "    return predicted_labels\n"
      ],
      "outputs": [],
      "execution_count": 10
    },
    {
      "cell_type": "code",
      "metadata": {
        "colab": {
          "base_uri": "https://localhost:8080/"
        },
        "id": "DeQQxfl5tQ6h",
        "outputId": "a1e01552-4fac-42c1-ca83-08101244b77e",
        "ExecuteTime": {
          "end_time": "2025-01-26T08:18:18.990388Z",
          "start_time": "2025-01-26T08:18:18.980744Z"
        }
      },
      "source": [
        "job_titles = \"Systems Engineer; Systems Architect\t\"\n",
        "\n",
        "# Classify using CatBoost\n",
        "catboost_predictions = classify_with_catboost(job_titles, threshold=best_threshold_for_catboost)\n",
        "print(\"CatBoost Predictions:\", catboost_predictions)\n",
        "\n",
        "# Classify using BERT\n",
        "bert_predictions = classify_with_bert(job_titles, threshold=best_threshold_for_BERT)\n",
        "print(\"BERT Predictions:\", bert_predictions)"
      ],
      "outputs": [
        {
          "output_type": "stream",
          "name": "stdout",
          "text": [
            "CatBoost Predictions: ['Individual Contributor/Staff', 'Manager']\n",
            "BERT Predictions: ['Individual Contributor/Staff', 'Manager']\n"
          ]
        }
      ],
      "execution_count": 11
    },
    {
      "cell_type": "markdown",
      "metadata": {
        "id": "-ANPgL79x3wi"
      },
      "source": [
        "**I didn't have sufficient time to tune all the hyperparameters. With proper tuning, I believe all the metrics could be improved.**"
      ]
    },
    {
      "cell_type": "code",
      "source": [],
      "metadata": {
        "id": "qHPg_f9UPDD7"
      },
      "execution_count": null,
      "outputs": []
    }
  ],
  "metadata": {
    "accelerator": "GPU",
    "colab": {
      "gpuType": "T4",
      "provenance": []
    },
    "kernelspec": {
      "display_name": "Python 3 (ipykernel)",
      "language": "python",
      "name": "python3"
    },
    "language_info": {
      "codemirror_mode": {
        "name": "ipython",
        "version": 3
      },
      "file_extension": ".py",
      "mimetype": "text/x-python",
      "name": "python",
      "nbconvert_exporter": "python",
      "pygments_lexer": "ipython3",
      "version": "3.11.7"
    }
  },
  "nbformat": 4,
  "nbformat_minor": 0
}